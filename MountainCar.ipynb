{
  "cells": [
    {
      "cell_type": "markdown",
      "metadata": {
        "id": "PF0TtkQ4-NoP"
      },
      "source": [
        "<a href=\"https://colab.research.google.com/github/jeffheaton/t81_558_deep_learning/blob/master/t81_558_class_12_02_qlearningreinforcement.ipynb\" target=\"_parent\"><img src=\"https://colab.research.google.com/assets/colab-badge.svg\" alt=\"Open In Colab\"/></a>"
      ]
    },
    {
      "cell_type": "markdown",
      "metadata": {
        "id": "6dkLTudD-NoQ"
      },
      "source": [
        "# T81-558: Applications of Deep Neural Networks\n",
        "**Module 12: Reinforcement Learning**\n",
        "* Instructor: [Jeff Heaton](https://sites.wustl.edu/jeffheaton/), McKelvey School of Engineering, [Washington University in St. Louis](https://engineering.wustl.edu/Programs/Pages/default.aspx)\n",
        "* For more information visit the [class website](https://sites.wustl.edu/jeffheaton/t81-558/)."
      ]
    },
    {
      "cell_type": "markdown",
      "metadata": {
        "id": "wN-T0x2j-NoR"
      },
      "source": [
        "# Module 12 Video Material\n",
        "\n",
        "* Part 12.1: Introduction to the OpenAI Gym [[Video]](https://www.youtube.com/watch?v=_KbUxgyisjM&list=PLjy4p-07OYzulelvJ5KVaT2pDlxivl_BN) [[Notebook]](https://github.com/jeffheaton/t81_558_deep_learning/blob/master/t81_558_class_12_01_ai_gym.ipynb)\n",
        "* **Part 12.2: Introduction to Q-Learning** [[Video]](https://www.youtube.com/watch?v=A3sYFcJY3lA&list=PLjy4p-07OYzulelvJ5KVaT2pDlxivl_BN) [[Notebook]](https://github.com/jeffheaton/t81_558_deep_learning/blob/master/t81_558_class_12_02_qlearningreinforcement.ipynb)\n",
        "* Part 12.3: Keras Q-Learning in the OpenAI Gym [[Video]](https://www.youtube.com/watch?v=qy1SJmsRhvM&list=PLjy4p-07OYzulelvJ5KVaT2pDlxivl_BN) [[Notebook]](https://github.com/jeffheaton/t81_558_deep_learning/blob/master/t81_558_class_12_03_keras_reinforce.ipynb)\n",
        "* Part 12.4: Atari Games with Keras Neural Networks [[Video]](https://www.youtube.com/watch?v=co0SwPWoZh0&list=PLjy4p-07OYzulelvJ5KVaT2pDlxivl_BN) [[Notebook]](https://github.com/jeffheaton/t81_558_deep_learning/blob/master/t81_558_class_12_04_atari.ipynb)\n",
        "* Part 12.5: Application of Reinforcement Learning [[Video]](https://www.youtube.com/watch?v=1jQPP3RfwMI&list=PLjy4p-07OYzulelvJ5KVaT2pDlxivl_BN) [[Notebook]](https://github.com/jeffheaton/t81_558_deep_learning/blob/master/t81_558_class_12_05_apply_rl.ipynb)\n"
      ]
    },
    {
      "cell_type": "markdown",
      "metadata": {
        "id": "MIOgB0oG-NoS"
      },
      "source": [
        "# Google CoLab Instructions\n",
        "\n",
        "The following code ensures that Google CoLab is running the correct version of TensorFlow."
      ]
    },
    {
      "cell_type": "code",
      "execution_count": 1,
      "metadata": {
        "colab": {
          "base_uri": "https://localhost:8080/"
        },
        "id": "ERfMETL_-NoS",
        "outputId": "5d0cd69c-b94a-497d-ce41-2361559bb985"
      },
      "outputs": [
        {
          "output_type": "stream",
          "name": "stdout",
          "text": [
            "Note: using Google CoLab\n"
          ]
        }
      ],
      "source": [
        "try:\n",
        "    from google.colab import drive\n",
        "    %tensorflow_version 2.x\n",
        "    COLAB = True\n",
        "    print(\"Note: using Google CoLab\")\n",
        "except:\n",
        "    print(\"Note: not using Google CoLab\")\n",
        "    COLAB = False"
      ]
    },
    {
      "cell_type": "code",
      "execution_count": 2,
      "metadata": {
        "colab": {
          "base_uri": "https://localhost:8080/"
        },
        "id": "IcTY1gkD-X5r",
        "outputId": "e45df1d0-caa3-41d1-91be-c502a3ee68c7"
      },
      "outputs": [
        {
          "output_type": "stream",
          "name": "stdout",
          "text": [
            "Reading package lists... Done\n",
            "Building dependency tree       \n",
            "Reading state information... Done\n",
            "ffmpeg is already the newest version (7:3.4.8-0ubuntu0.2).\n",
            "The following package was automatically installed and is no longer required:\n",
            "  libnvidia-common-460\n",
            "Use 'sudo apt autoremove' to remove it.\n",
            "Suggested packages:\n",
            "  mesa-utils\n",
            "The following NEW packages will be installed:\n",
            "  libxxf86dga1 x11-utils xvfb\n",
            "0 upgraded, 3 newly installed, 0 to remove and 42 not upgraded.\n",
            "Need to get 993 kB of archives.\n",
            "After this operation, 2,982 kB of additional disk space will be used.\n",
            "Get:1 http://archive.ubuntu.com/ubuntu bionic/main amd64 libxxf86dga1 amd64 2:1.1.4-1 [13.7 kB]\n",
            "Get:2 http://archive.ubuntu.com/ubuntu bionic/main amd64 x11-utils amd64 7.7+3build1 [196 kB]\n",
            "Get:3 http://archive.ubuntu.com/ubuntu bionic-updates/universe amd64 xvfb amd64 2:1.19.6-1ubuntu4.10 [784 kB]\n",
            "Fetched 993 kB in 2s (458 kB/s)\n",
            "debconf: unable to initialize frontend: Dialog\n",
            "debconf: (No usable dialog-like program is installed, so the dialog based frontend cannot be used. at /usr/share/perl5/Debconf/FrontEnd/Dialog.pm line 76, <> line 3.)\n",
            "debconf: falling back to frontend: Readline\n",
            "debconf: unable to initialize frontend: Readline\n",
            "debconf: (This frontend requires a controlling tty.)\n",
            "debconf: falling back to frontend: Teletype\n",
            "dpkg-preconfigure: unable to re-open stdin: \n",
            "Selecting previously unselected package libxxf86dga1:amd64.\n",
            "(Reading database ... 155629 files and directories currently installed.)\n",
            "Preparing to unpack .../libxxf86dga1_2%3a1.1.4-1_amd64.deb ...\n",
            "Unpacking libxxf86dga1:amd64 (2:1.1.4-1) ...\n",
            "Selecting previously unselected package x11-utils.\n",
            "Preparing to unpack .../x11-utils_7.7+3build1_amd64.deb ...\n",
            "Unpacking x11-utils (7.7+3build1) ...\n",
            "Selecting previously unselected package xvfb.\n",
            "Preparing to unpack .../xvfb_2%3a1.19.6-1ubuntu4.10_amd64.deb ...\n",
            "Unpacking xvfb (2:1.19.6-1ubuntu4.10) ...\n",
            "Setting up xvfb (2:1.19.6-1ubuntu4.10) ...\n",
            "Setting up libxxf86dga1:amd64 (2:1.1.4-1) ...\n",
            "Setting up x11-utils (7.7+3build1) ...\n",
            "Processing triggers for man-db (2.8.3-2ubuntu0.1) ...\n",
            "Processing triggers for libc-bin (2.27-3ubuntu1.3) ...\n",
            "/sbin/ldconfig.real: /usr/local/lib/python3.7/dist-packages/ideep4py/lib/libmkldnn.so.0 is not a symbolic link\n",
            "\n",
            "\u001b[K     |████████████████████████████████| 3.3 MB 4.4 MB/s \n",
            "\u001b[?25h  Building wheel for imageio (setup.py) ... \u001b[?25l\u001b[?25hdone\n",
            "\u001b[31mERROR: pip's dependency resolver does not currently take into account all the packages that are installed. This behaviour is the source of the following dependency conflicts.\n",
            "albumentations 0.1.12 requires imgaug<0.2.7,>=0.2.5, but you have imgaug 0.2.9 which is incompatible.\u001b[0m\n",
            "\u001b[K     |████████████████████████████████| 1.0 MB 3.8 MB/s \n",
            "\u001b[31mERROR: pip's dependency resolver does not currently take into account all the packages that are installed. This behaviour is the source of the following dependency conflicts.\n",
            "gym 0.17.3 requires pyglet<=1.5.0,>=1.4.0, but you have pyglet 1.3.2 which is incompatible.\u001b[0m\n",
            "\u001b[K     |████████████████████████████████| 1.3 MB 4.3 MB/s \n",
            "\u001b[K     |████████████████████████████████| 18.3 MB 92 kB/s \n",
            "\u001b[K     |████████████████████████████████| 1.0 MB 48.0 MB/s \n",
            "\u001b[?25h"
          ]
        }
      ],
      "source": [
        "# HIDE OUTPUT\n",
        "if COLAB:\n",
        "  !sudo apt-get install -y xvfb ffmpeg x11-utils\n",
        "  !pip install -q gym\n",
        "  !pip install -q 'imageio==2.4.0'\n",
        "  !pip install -q PILLOW\n",
        "  !pip install -q 'pyglet==1.3.2'\n",
        "  !pip install -q pyvirtualdisplay\n",
        "  !pip install -q tf-agents\n",
        "  !pip install -q pygame"
      ]
    },
    {
      "cell_type": "markdown",
      "metadata": {
        "id": "zA-E4NR2-NoY"
      },
      "source": [
        "# Part 12.2: Introduction to Q-Learning\n",
        "\n",
        "Q-Learning is a foundational technology upon which deep reinforcement learning is based. Before we explore deep reinforcement learning, it is essential to understand Q-Learning. Several components make up any Q-Learning system.\n",
        "\n",
        "* **Agent** - The agent is an entity that exists in an environment that takes actions to affect the state of the environment, to receive rewards.\n",
        "* **Environment** - The environment is the universe that the agent exists in. The environment is always in a specific state that is changed by the agent's actions.\n",
        "* **Actions** - Steps that the agent can perform to alter the environment \n",
        "* **Step** - A step occurs when the agent performs an action and potentially changes the environment state.\n",
        "* **Episode** - A chain of steps that ultimately culminates in the environment entering a terminal state.\n",
        "* **Epoch** - A training iteration of the agent that contains some number of episodes.\n",
        "* **Terminal State** -  A state in which further actions do not make sense. A terminal state occurs when the agent has one, lost, or the environment exceeds the maximum number of steps in many environments.\n",
        "\n",
        "Q-Learning works by building a table that suggests an action for every possible state. This approach runs into several problems. First, the environment is usually composed of several continuous numbers, resulting in an infinite number of states. Q-Learning handles continuous states by binning these numeric values into ranges. \n",
        "\n",
        "Out of the box, Q-Learning does not deal with continuous inputs, such as a car's accelerator that can range from released to fully engaged. Additionally, Q-Learning primarily deals with discrete actions, such as pressing a joystick up or down. Researchers have developed clever tricks to allow Q-Learning to accommodate continuous actions.\n",
        "\n",
        "Deep neural networks can help solve the problems of continuous environments and action spaces. In the next section, we will learn more about deep reinforcement learning. For now, we will apply regular Q-Learning to the Mountain Car problem from OpenAI Gym.\n",
        "\n",
        "## Introducing the Mountain Car\n",
        "\n",
        "This section will demonstrate how Q-Learning can create a solution to the mountain car gym environment. The Mountain car is an environment where a car must climb a mountain. Because gravity is stronger than the car's engine, it cannot merely accelerate up the steep slope even with full throttle. The vehicle is situated in a valley and must learn to utilize potential energy by driving up the opposite hill before the car can make it to the goal at the top of the rightmost hill.\n",
        "\n",
        "First, it might be helpful to visualize the mountain car environment. The following code shows this environment. This code makes use of TF-Agents to perform this render. Usually, we use TF-Agents for the type of deep reinforcement learning that we will see in the next module. However, TF-Agents is just used to render the mountain care environment for now."
      ]
    },
    {
      "cell_type": "code",
      "execution_count": 3,
      "metadata": {
        "colab": {
          "base_uri": "https://localhost:8080/",
          "height": 417
        },
        "id": "ngaU1pVi-mjb",
        "outputId": "a3df5fdc-f20d-478a-e90d-5e20026c1c94"
      },
      "outputs": [
        {
          "output_type": "execute_result",
          "data": {
            "text/plain": [
              "<PIL.Image.Image image mode=RGB size=600x400 at 0x7FB306DC5F90>"
            ],
            "image/png": "[encoded data removed]"
          },
          "metadata": {},
          "execution_count": 3
        }
      ],
      "source": [
        "import tf_agents\n",
        "from tf_agents.environments import suite_gym\n",
        "import PIL.Image\n",
        "import pyvirtualdisplay\n",
        "\n",
        "display = pyvirtualdisplay.Display(visible=0, size=(1400, 900)).start()\n",
        "\n",
        "env_name = 'MountainCar-v0'\n",
        "env = suite_gym.load(env_name)\n",
        "env.reset()\n",
        "PIL.Image.fromarray(env.render())"
      ]
    },
    {
      "cell_type": "markdown",
      "metadata": {
        "id": "cQBcs3yAMo_P"
      },
      "source": [
        "The mountain car environment provides the following discrete actions:\n",
        "\n",
        "* 0 - Apply left force\n",
        "* 1 - Apply no force\n",
        "* 2 - Apply right force\n",
        "\n",
        "The mountain car environment is made up of the following continuous values:\n",
        "\n",
        "* state[0] - Position \n",
        "* state[1] - Velocity\n",
        "\n",
        "The cart is not strong enough. It will need to use potential energy from the mountain behind it. The following code shows an agent that applies full throttle to climb the hill."
      ]
    },
    {
      "cell_type": "code",
      "execution_count": 4,
      "metadata": {
        "id": "QMLS0b-tbc_j"
      },
      "outputs": [],
      "source": [
        "import gym\n",
        "from gym.wrappers import Monitor\n",
        "import glob\n",
        "import io\n",
        "import base64\n",
        "from IPython.display import HTML\n",
        "from pyvirtualdisplay import Display\n",
        "from IPython import display as ipythondisplay\n",
        "\n",
        "display = Display(visible=0, size=(1400, 900))\n",
        "display.start()\n",
        "\n",
        "\n",
        "def show_video():\n",
        "    mp4list = glob.glob('video/*.mp4')\n",
        "    if len(mp4list) > 0:\n",
        "        mp4 = mp4list[0]\n",
        "        video = io.open(mp4, 'r+b').read()\n",
        "        encoded = base64.b64encode(video)\n",
        "        ipythondisplay.display(HTML(data='''<video alt=\"test\" autoplay \n",
        "                loop controls style=\"height: 400px;\">\n",
        "                <source src=\"data:video/mp4;base64,{0}\" \n",
        "                type=\"video/mp4\" />\n",
        "             </video>'''.format(encoded.decode('ascii'))))\n",
        "    else:\n",
        "        print(\"Could not find video\")\n",
        "\n",
        "\n",
        "def wrap_env(env):\n",
        "    env = Monitor(env, './video', force=True)\n",
        "    return env\n"
      ]
    },
    {
      "cell_type": "markdown",
      "metadata": {
        "id": "iDkmeVenJst3"
      },
      "source": [
        "We are now ready to train the agent."
      ]
    },
    {
      "cell_type": "code",
      "execution_count": 5,
      "metadata": {
        "colab": {
          "base_uri": "https://localhost:8080/"
        },
        "id": "iCRJdn0G-NoZ",
        "outputId": "f79e21b1-4322-458b-969d-1a78b132e377"
      },
      "outputs": [
        {
          "output_type": "stream",
          "name": "stdout",
          "text": [
            "Step 1: State=[-0.47142773  0.00061487], Reward=-1.0\n",
            "Step 2: State=[-0.47020255  0.00122518], Reward=-1.0\n",
            "Step 3: State=[-0.46837613  0.00182642], Reward=-1.0\n",
            "Step 4: State=[-0.46596199  0.00241414], Reward=-1.0\n",
            "Step 5: State=[-0.46297797  0.00298402], Reward=-1.0\n",
            "Step 6: State=[-0.45944611  0.00353186], Reward=-1.0\n",
            "Step 7: State=[-0.45539243  0.00405368], Reward=-1.0\n",
            "Step 8: State=[-0.45084673  0.0045457 ], Reward=-1.0\n",
            "Step 9: State=[-0.44584235  0.00500438], Reward=-1.0\n",
            "Step 10: State=[-0.44041587  0.00542648], Reward=-1.0\n",
            "Step 11: State=[-0.43460681  0.00580906], Reward=-1.0\n",
            "Step 12: State=[-0.42845728  0.00614952], Reward=-1.0\n",
            "Step 13: State=[-0.42201167  0.00644561], Reward=-1.0\n",
            "Step 14: State=[-0.41531622  0.00669545], Reward=-1.0\n",
            "Step 15: State=[-0.40841868  0.00689754], Reward=-1.0\n",
            "Step 16: State=[-0.40136791  0.00705077], Reward=-1.0\n",
            "Step 17: State=[-0.39421346  0.00715445], Reward=-1.0\n",
            "Step 18: State=[-0.38700521  0.00720824], Reward=-1.0\n",
            "Step 19: State=[-0.37979299  0.00721222], Reward=-1.0\n",
            "Step 20: State=[-0.37262616  0.00716683], Reward=-1.0\n",
            "Step 21: State=[-0.36555331  0.00707285], Reward=-1.0\n",
            "Step 22: State=[-0.35862189  0.00693142], Reward=-1.0\n",
            "Step 23: State=[-0.35187789  0.006744  ], Reward=-1.0\n",
            "Step 24: State=[-0.34536558  0.00651231], Reward=-1.0\n",
            "Step 25: State=[-0.33912723  0.00623835], Reward=-1.0\n",
            "Step 26: State=[-0.33320287  0.00592436], Reward=-1.0\n",
            "Step 27: State=[-0.32763009  0.00557278], Reward=-1.0\n",
            "Step 28: State=[-0.32244386  0.00518623], Reward=-1.0\n",
            "Step 29: State=[-0.31767637  0.00476749], Reward=-1.0\n",
            "Step 30: State=[-0.31335692  0.00431945], Reward=-1.0\n",
            "Step 31: State=[-0.3095118   0.00384512], Reward=-1.0\n",
            "Step 32: State=[-0.3061642  0.0033476], Reward=-1.0\n",
            "Step 33: State=[-0.30333415  0.00283005], Reward=-1.0\n",
            "Step 34: State=[-0.30103846  0.00229569], Reward=-1.0\n",
            "Step 35: State=[-0.29929068  0.00174778], Reward=-1.0\n",
            "Step 36: State=[-0.29810109  0.00118959], Reward=-1.0\n",
            "Step 37: State=[-0.29747666  0.00062443], Reward=-1.0\n",
            "Step 38: State=[-2.97421032e-01  5.56279947e-05], Reward=-1.0\n",
            "Step 39: State=[-0.29793453 -0.0005135 ], Reward=-1.0\n",
            "Step 40: State=[-0.29901416 -0.00107963], Reward=-1.0\n",
            "Step 41: State=[-0.30065361 -0.00163944], Reward=-1.0\n",
            "Step 42: State=[-0.30284323 -0.00218962], Reward=-1.0\n",
            "Step 43: State=[-0.30557012 -0.00272689], Reward=-1.0\n",
            "Step 44: State=[-0.30881809 -0.00324797], Reward=-1.0\n",
            "Step 45: State=[-0.31256774 -0.00374965], Reward=-1.0\n",
            "Step 46: State=[-0.3167965  -0.00422876], Reward=-1.0\n",
            "Step 47: State=[-0.32147867 -0.00468217], Reward=-1.0\n",
            "Step 48: State=[-0.32658555 -0.00510687], Reward=-1.0\n",
            "Step 49: State=[-0.33208548 -0.00549994], Reward=-1.0\n",
            "Step 50: State=[-0.33794404 -0.00585856], Reward=-1.0\n",
            "Step 51: State=[-0.34412413 -0.00618009], Reward=-1.0\n",
            "Step 52: State=[-0.35058617 -0.00646205], Reward=-1.0\n",
            "Step 53: State=[-0.35728833 -0.00670216], Reward=-1.0\n",
            "Step 54: State=[-0.36418671 -0.00689838], Reward=-1.0\n",
            "Step 55: State=[-0.37123562 -0.00704891], Reward=-1.0\n",
            "Step 56: State=[-0.37838787 -0.00715226], Reward=-1.0\n",
            "Step 57: State=[-0.38559509 -0.00720722], Reward=-1.0\n",
            "Step 58: State=[-0.39280802 -0.00721293], Reward=-1.0\n",
            "Step 59: State=[-0.3999769  -0.00716888], Reward=-1.0\n",
            "Step 60: State=[-0.40705184 -0.00707494], Reward=-1.0\n",
            "Step 61: State=[-0.41398318 -0.00693134], Reward=-1.0\n",
            "Step 62: State=[-0.4207219  -0.00673872], Reward=-1.0\n",
            "Step 63: State=[-0.42722   -0.0064981], Reward=-1.0\n",
            "Step 64: State=[-0.43343092 -0.00621092], Reward=-1.0\n",
            "Step 65: State=[-0.43930988 -0.00587896], Reward=-1.0\n",
            "Step 66: State=[-0.44481428 -0.00550441], Reward=-1.0\n",
            "Step 67: State=[-0.44990409 -0.00508981], Reward=-1.0\n",
            "Step 68: State=[-0.45454212 -0.00463802], Reward=-1.0\n",
            "Step 69: State=[-0.45869437 -0.00415225], Reward=-1.0\n",
            "Step 70: State=[-0.46233033 -0.00363597], Reward=-1.0\n",
            "Step 71: State=[-0.46542323 -0.0030929 ], Reward=-1.0\n",
            "Step 72: State=[-0.46795023 -0.002527  ], Reward=-1.0\n",
            "Step 73: State=[-0.46989266 -0.00194243], Reward=-1.0\n",
            "Step 74: State=[-0.47123615 -0.00134348], Reward=-1.0\n",
            "Step 75: State=[-0.47197074 -0.00073459], Reward=-1.0\n",
            "Step 76: State=[-4.72090992e-01 -1.20255212e-04], Reward=-1.0\n",
            "Step 77: State=[-0.47159602  0.00049497], Reward=-1.0\n",
            "Step 78: State=[-0.47048949  0.00110653], Reward=-1.0\n",
            "Step 79: State=[-0.46877959  0.00170989], Reward=-1.0\n",
            "Step 80: State=[-0.46647899  0.0023006 ], Reward=-1.0\n",
            "Step 81: State=[-0.46360469  0.0028743 ], Reward=-1.0\n",
            "Step 82: State=[-0.46017793  0.00342677], Reward=-1.0\n",
            "Step 83: State=[-0.45622395  0.00395397], Reward=-1.0\n",
            "Step 84: State=[-0.45177186  0.0044521 ], Reward=-1.0\n",
            "Step 85: State=[-0.4468543   0.00491755], Reward=-1.0\n",
            "Step 86: State=[-0.44150726  0.00534704], Reward=-1.0\n",
            "Step 87: State=[-0.4357697   0.00573756], Reward=-1.0\n",
            "Step 88: State=[-0.42968326  0.00608644], Reward=-1.0\n",
            "Step 89: State=[-0.4232919   0.00639135], Reward=-1.0\n",
            "Step 90: State=[-0.41664155  0.00665036], Reward=-1.0\n",
            "Step 91: State=[-0.40977968  0.00686187], Reward=-1.0\n",
            "Step 92: State=[-0.40275496  0.00702472], Reward=-1.0\n",
            "Step 93: State=[-0.39561685  0.00713811], Reward=-1.0\n",
            "Step 94: State=[-0.38841519  0.00720166], Reward=-1.0\n",
            "Step 95: State=[-0.38119984  0.00721535], Reward=-1.0\n",
            "Step 96: State=[-0.3740203   0.00717954], Reward=-1.0\n",
            "Step 97: State=[-0.36692532  0.00709498], Reward=-1.0\n",
            "Step 98: State=[-0.3599626   0.00696272], Reward=-1.0\n",
            "Step 99: State=[-0.35317846  0.00678415], Reward=-1.0\n",
            "Step 100: State=[-0.3466175   0.00656095], Reward=-1.0\n",
            "Step 101: State=[-0.34032242  0.00629509], Reward=-1.0\n",
            "Step 102: State=[-0.33433368  0.00598873], Reward=-1.0\n",
            "Step 103: State=[-0.32868939  0.0056443 ], Reward=-1.0\n",
            "Step 104: State=[-0.32342502  0.00526436], Reward=-1.0\n",
            "Step 105: State=[-0.31857334  0.00485168], Reward=-1.0\n",
            "Step 106: State=[-0.31416421  0.00440913], Reward=-1.0\n",
            "Step 107: State=[-0.31022451  0.0039397 ], Reward=-1.0\n",
            "Step 108: State=[-0.30677805  0.00344646], Reward=-1.0\n",
            "Step 109: State=[-0.30384548  0.00293258], Reward=-1.0\n",
            "Step 110: State=[-0.30144423  0.00240125], Reward=-1.0\n",
            "Step 111: State=[-0.29958851  0.00185572], Reward=-1.0\n",
            "Step 112: State=[-0.29828923  0.00129928], Reward=-1.0\n",
            "Step 113: State=[-0.297554    0.00073522], Reward=-1.0\n",
            "Step 114: State=[-2.97387132e-01  1.66871587e-04], Reward=-1.0\n",
            "Step 115: State=[-0.29778959 -0.00040246], Reward=-1.0\n",
            "Step 116: State=[-0.29875902 -0.00096943], Reward=-1.0\n",
            "Step 117: State=[-0.30028976 -0.00153074], Reward=-1.0\n",
            "Step 118: State=[-0.30237282 -0.00208306], Reward=-1.0\n",
            "Step 119: State=[-0.30499592 -0.0026231 ], Reward=-1.0\n",
            "Step 120: State=[-0.30814353 -0.00314761], Reward=-1.0\n",
            "Step 121: State=[-0.31179686 -0.00365333], Reward=-1.0\n",
            "Step 122: State=[-0.31593395 -0.00413709], Reward=-1.0\n",
            "Step 123: State=[-0.32052971 -0.00459576], Reward=-1.0\n",
            "Step 124: State=[-0.32555602 -0.00502631], Reward=-1.0\n",
            "Step 125: State=[-0.33098179 -0.00542577], Reward=-1.0\n",
            "Step 126: State=[-0.33677313 -0.00579134], Reward=-1.0\n",
            "Step 127: State=[-0.34289344 -0.00612031], Reward=-1.0\n",
            "Step 128: State=[-0.34930362 -0.00641019], Reward=-1.0\n",
            "Step 129: State=[-0.35596227 -0.00665864], Reward=-1.0\n",
            "Step 130: State=[-0.36282585 -0.00686358], Reward=-1.0\n",
            "Step 131: State=[-0.36984902 -0.00702317], Reward=-1.0\n",
            "Step 132: State=[-0.37698486 -0.00713584], Reward=-1.0\n",
            "Step 133: State=[-0.38418519 -0.00720033], Reward=-1.0\n",
            "Step 134: State=[-0.3914009  -0.00721571], Reward=-1.0\n",
            "Step 135: State=[-0.39858231 -0.00718141], Reward=-1.0\n",
            "Step 136: State=[-0.40567951 -0.00709721], Reward=-1.0\n",
            "Step 137: State=[-0.41264278 -0.00696327], Reward=-1.0\n",
            "Step 138: State=[-0.41942294 -0.00678016], Reward=-1.0\n",
            "Step 139: State=[-0.42597176 -0.00654882], Reward=-1.0\n",
            "Step 140: State=[-0.43224235 -0.0062706 ], Reward=-1.0\n",
            "Step 141: State=[-0.43818958 -0.00594722], Reward=-1.0\n",
            "Step 142: State=[-0.44377039 -0.00558081], Reward=-1.0\n",
            "Step 143: State=[-0.4489442  -0.00517381], Reward=-1.0\n",
            "Step 144: State=[-0.45367326 -0.00472905], Reward=-1.0\n",
            "Step 145: State=[-0.45792291 -0.00424966], Reward=-1.0\n",
            "Step 146: State=[-0.46166196 -0.00373905], Reward=-1.0\n",
            "Step 147: State=[-0.46486286 -0.0032009 ], Reward=-1.0\n",
            "Step 148: State=[-0.46750201 -0.00263915], Reward=-1.0\n",
            "Step 149: State=[-0.4695599  -0.00205789], Reward=-1.0\n",
            "Step 150: State=[-0.47102131 -0.00146141], Reward=-1.0\n",
            "Step 151: State=[-0.47187541 -0.00085411], Reward=-1.0\n",
            "Step 152: State=[-4.72115889e-01 -2.40476395e-04], Reward=-1.0\n",
            "Step 153: State=[-4.71740954e-01  3.74935244e-04], Reward=-1.0\n",
            "Step 154: State=[-0.47075339  0.00098757], Reward=-1.0\n",
            "Step 155: State=[-0.4691605   0.00159289], Reward=-1.0\n",
            "Step 156: State=[-0.46697409  0.00218641], Reward=-1.0\n",
            "Step 157: State=[-0.46421032  0.00276377], Reward=-1.0\n",
            "Step 158: State=[-0.46088962  0.00332071], Reward=-1.0\n",
            "Step 159: State=[-0.45703646  0.00385316], Reward=-1.0\n",
            "Step 160: State=[-0.45267921  0.00435725], Reward=-1.0\n",
            "Step 161: State=[-0.44784985  0.00482936], Reward=-1.0\n",
            "Step 162: State=[-0.44258374  0.00526612], Reward=-1.0\n",
            "Step 163: State=[-0.43691927  0.00566447], Reward=-1.0\n",
            "Step 164: State=[-0.43089759  0.00602167], Reward=-1.0\n",
            "Step 165: State=[-0.42456225  0.00633534], Reward=-1.0\n",
            "Step 166: State=[-0.4179588   0.00660345], Reward=-1.0\n",
            "Step 167: State=[-0.41113446  0.00682435], Reward=-1.0\n",
            "Step 168: State=[-0.40413768  0.00699677], Reward=-1.0\n",
            "Step 169: State=[-0.39701781  0.00711987], Reward=-1.0\n",
            "Step 170: State=[-0.38982464  0.00719317], Reward=-1.0\n",
            "Step 171: State=[-0.38260806  0.00721658], Reward=-1.0\n",
            "Step 172: State=[-0.37541766  0.0071904 ], Reward=-1.0\n",
            "Step 173: State=[-0.36830238  0.00711528], Reward=-1.0\n",
            "Step 174: State=[-0.36131014  0.00699224], Reward=-1.0\n",
            "Step 175: State=[-0.35448754  0.00682259], Reward=-1.0\n",
            "Step 176: State=[-0.34787957  0.00660797], Reward=-1.0\n",
            "Step 177: State=[-0.3415293   0.00635028], Reward=-1.0\n",
            "Step 178: State=[-0.33547765  0.00605165], Reward=-1.0\n",
            "Step 179: State=[-0.32976319  0.00571445], Reward=-1.0\n",
            "Step 180: State=[-0.32442195  0.00534124], Reward=-1.0\n",
            "Step 181: State=[-0.31948721  0.00493474], Reward=-1.0\n",
            "Step 182: State=[-0.31498942  0.00449779], Reward=-1.0\n",
            "Step 183: State=[-0.31095606  0.00403337], Reward=-1.0\n",
            "Step 184: State=[-0.30741152  0.00354454], Reward=-1.0\n",
            "Step 185: State=[-0.30437709  0.00303443], Reward=-1.0\n",
            "Step 186: State=[-0.30187083  0.00250626], Reward=-1.0\n",
            "Step 187: State=[-0.29990758  0.00196325], Reward=-1.0\n",
            "Step 188: State=[-0.2984989   0.00140868], Reward=-1.0\n",
            "Step 189: State=[-0.29765305  0.00084585], Reward=-1.0\n",
            "Step 190: State=[-2.97374968e-01  2.78077991e-04], Reward=-1.0\n",
            "Step 191: State=[-2.97666289e-01 -2.91320517e-04], Reward=-1.0\n",
            "Step 192: State=[-0.29852531 -0.00085902], Reward=-1.0\n",
            "Step 193: State=[-0.299947   -0.00142169], Reward=-1.0\n",
            "Step 194: State=[-0.30192303 -0.00197603], Reward=-1.0\n",
            "Step 195: State=[-0.30444175 -0.00251873], Reward=-1.0\n",
            "Step 196: State=[-0.30748828 -0.00304652], Reward=-1.0\n",
            "Step 197: State=[-0.31104444 -0.00355616], Reward=-1.0\n",
            "Step 198: State=[-0.3150889  -0.00404446], Reward=-1.0\n",
            "Step 199: State=[-0.31959718 -0.00450828], Reward=-1.0\n",
            "Step 200: State=[-0.32454174 -0.00494455], Reward=-1.0\n"
          ]
        }
      ],
      "source": [
        "import gym\n",
        "\n",
        "if COLAB:\n",
        "    env = wrap_env(gym.make(\"MountainCar-v0\"))\n",
        "else:\n",
        "    env = gym.make(\"MountainCar-v0\")\n",
        "\n",
        "env.reset()\n",
        "done = False\n",
        "\n",
        "i = 0\n",
        "while not done:\n",
        "    i += 1\n",
        "    state, reward, done, _ = env.step(2)\n",
        "    env.render()\n",
        "    print(f\"Step {i}: State={state}, Reward={reward}\")\n",
        "\n",
        "env.close()\n"
      ]
    },
    {
      "cell_type": "markdown",
      "metadata": {
        "id": "mAiuC246Jw2B"
      },
      "source": [
        "It helps to visualize the car. The following code shows a video of the car when run from a notebook."
      ]
    },
    {
      "cell_type": "code",
      "execution_count": 6,
      "metadata": {
        "colab": {
          "base_uri": "https://localhost:8080/",
          "height": 421
        },
        "id": "lrJxIxzpdI_s",
        "outputId": "9793caea-3f9a-4a43-ded9-eb6727786fa2"
      },
      "outputs": [
        {
          "output_type": "display_data",
          "data": {
            "text/plain": [
              "<IPython.core.display.HTML object>"
            ],
            "text/html": [
              "<video alt=\"test\" autoplay \n",
              "                loop controls style=\"height: 400px;\">\n",
              "                <source src=\"data:video/mp4;base64,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\" \n",
              "                type=\"video/mp4\" />\n",
              "             </video>"
            ]
          },
          "metadata": {}
        }
      ],
      "source": [
        "# HIDE OUTPUT\n",
        "show_video()\n"
      ]
    },
    {
      "cell_type": "markdown",
      "metadata": {
        "id": "IVcdwI-0-Nod"
      },
      "source": [
        "## Programmed Car\n",
        "\n",
        "Now we will look at a car that I hand-programmed. This car is straightforward; however, it solves the problem. The programmed car always applies force in one direction or another. It does not break. Whatever direction the vehicle is currently rolling, the agent uses power in that direction. Therefore, the car begins to climb a hill, is overpowered, and turns backward. However, once it starts to roll backward, force is immediately applied in this new direction.\n",
        "\n",
        "The following code implements this preprogrammed car."
      ]
    },
    {
      "cell_type": "code",
      "execution_count": 7,
      "metadata": {
        "colab": {
          "base_uri": "https://localhost:8080/"
        },
        "id": "AMzYrqRy-Noe",
        "outputId": "ab7ce295-50ee-43c2-fac3-585d570b978f"
      },
      "outputs": [
        {
          "output_type": "stream",
          "name": "stdout",
          "text": [
            "Step 1: State=[-0.50006304 -0.00118524], Reward=-1.0\n",
            "Step 2: State=[-0.50242465 -0.00236161], Reward=-1.0\n",
            "Step 3: State=[-0.50594496 -0.00352031], Reward=-1.0\n",
            "Step 4: State=[-0.51059761 -0.00465265], Reward=-1.0\n",
            "Step 5: State=[-0.51634774 -0.00575013], Reward=-1.0\n",
            "Step 6: State=[-0.52315225 -0.00680451], Reward=-1.0\n",
            "Step 7: State=[-0.53096011 -0.00780786], Reward=-1.0\n",
            "Step 8: State=[-0.53971277 -0.00875266], Reward=-1.0\n",
            "Step 9: State=[-0.54934462 -0.00963185], Reward=-1.0\n",
            "Step 10: State=[-0.55978356 -0.01043895], Reward=-1.0\n",
            "Step 11: State=[-0.57095165 -0.01116809], Reward=-1.0\n",
            "Step 12: State=[-0.58276579 -0.01181414], Reward=-1.0\n",
            "Step 13: State=[-0.59513851 -0.01237271], Reward=-1.0\n",
            "Step 14: State=[-0.60797878 -0.01284027], Reward=-1.0\n",
            "Step 15: State=[-0.62119294 -0.01321416], Reward=-1.0\n",
            "Step 16: State=[-0.63468556 -0.01349262], Reward=-1.0\n",
            "Step 17: State=[-0.64836037 -0.0136748 ], Reward=-1.0\n",
            "Step 18: State=[-0.66212115 -0.01376079], Reward=-1.0\n",
            "Step 19: State=[-0.67587267 -0.01375151], Reward=-1.0\n",
            "Step 20: State=[-0.68952144 -0.01364877], Reward=-1.0\n",
            "Step 21: State=[-0.70297654 -0.01345511], Reward=-1.0\n",
            "Step 22: State=[-0.71615031 -0.01317377], Reward=-1.0\n",
            "Step 23: State=[-0.72895893 -0.01280862], Reward=-1.0\n",
            "Step 24: State=[-0.74132295 -0.01236402], Reward=-1.0\n",
            "Step 25: State=[-0.7531677  -0.01184475], Reward=-1.0\n",
            "Step 26: State=[-0.76442359 -0.0112559 ], Reward=-1.0\n",
            "Step 27: State=[-0.77502638 -0.01060279], Reward=-1.0\n",
            "Step 28: State=[-0.78491726 -0.00989087], Reward=-1.0\n",
            "Step 29: State=[-0.79404292 -0.00912566], Reward=-1.0\n",
            "Step 30: State=[-0.80235556 -0.00831265], Reward=-1.0\n",
            "Step 31: State=[-0.80981284 -0.00745728], Reward=-1.0\n",
            "Step 32: State=[-0.81637772 -0.00656489], Reward=-1.0\n",
            "Step 33: State=[-0.82201841 -0.00564069], Reward=-1.0\n",
            "Step 34: State=[-0.82670818 -0.00468976], Reward=-1.0\n",
            "Step 35: State=[-0.83042521 -0.00371703], Reward=-1.0\n",
            "Step 36: State=[-0.83315251 -0.0027273 ], Reward=-1.0\n",
            "Step 37: State=[-0.83487777 -0.00172526], Reward=-1.0\n",
            "Step 38: State=[-8.35593259e-01 -7.15487425e-04], Reward=-1.0\n",
            "Step 39: State=[-8.35295790e-01  2.97469275e-04], Reward=-1.0\n",
            "Step 40: State=[-0.83198669  0.0033091 ], Reward=-1.0\n",
            "Step 41: State=[-0.82568079  0.0063059 ], Reward=-1.0\n",
            "Step 42: State=[-0.8164069   0.00927389], Reward=-1.0\n",
            "Step 43: State=[-0.80420868  0.01219822], Reward=-1.0\n",
            "Step 44: State=[-0.7891458   0.01506288], Reward=-1.0\n",
            "Step 45: State=[-0.77129539  0.01785041], Reward=-1.0\n",
            "Step 46: State=[-0.75075357  0.02054182], Reward=-1.0\n",
            "Step 47: State=[-0.72763692  0.02311665], Reward=-1.0\n",
            "Step 48: State=[-0.70208377  0.02555315], Reward=-1.0\n",
            "Step 49: State=[-0.67425504  0.02782873], Reward=-1.0\n",
            "Step 50: State=[-0.64433446  0.02992057], Reward=-1.0\n",
            "Step 51: State=[-0.61252804  0.03180642], Reward=-1.0\n",
            "Step 52: State=[-0.57906253  0.03346551], Reward=-1.0\n",
            "Step 53: State=[-0.54418296  0.03487957], Reward=-1.0\n",
            "Step 54: State=[-0.50814911  0.03603385], Reward=-1.0\n",
            "Step 55: State=[-0.47123109  0.03691802], Reward=-1.0\n",
            "Step 56: State=[-0.43370421  0.03752688], Reward=-1.0\n",
            "Step 57: State=[-0.3958434   0.03786081], Reward=-1.0\n",
            "Step 58: State=[-0.35791747  0.03792593], Reward=-1.0\n",
            "Step 59: State=[-0.32018361  0.03773386], Reward=-1.0\n",
            "Step 60: State=[-0.28288242  0.03730119], Reward=-1.0\n",
            "Step 61: State=[-0.24623373  0.03664869], Reward=-1.0\n",
            "Step 62: State=[-0.2104334   0.03580033], Reward=-1.0\n",
            "Step 63: State=[-0.17565122  0.03478218], Reward=-1.0\n",
            "Step 64: State=[-0.1420299   0.03362132], Reward=-1.0\n",
            "Step 65: State=[-0.10968505  0.03234485], Reward=-1.0\n",
            "Step 66: State=[-0.07870607  0.03097898], Reward=-1.0\n",
            "Step 67: State=[-0.04915773  0.02954835], Reward=-1.0\n",
            "Step 68: State=[-0.02108225  0.02807548], Reward=-1.0\n",
            "Step 69: State=[0.00549823 0.02658048], Reward=-1.0\n",
            "Step 70: State=[0.03057905 0.02508082], Reward=-1.0\n",
            "Step 71: State=[0.05417039 0.02359133], Reward=-1.0\n",
            "Step 72: State=[0.07629466 0.02212427], Reward=-1.0\n",
            "Step 73: State=[0.09698413 0.02068947], Reward=-1.0\n",
            "Step 74: State=[0.11627867 0.01929454], Reward=-1.0\n",
            "Step 75: State=[0.13422379 0.01794512], Reward=-1.0\n",
            "Step 76: State=[0.15086886 0.01664507], Reward=-1.0\n",
            "Step 77: State=[0.16626566 0.0153968 ], Reward=-1.0\n",
            "Step 78: State=[0.18046706 0.0142014 ], Reward=-1.0\n",
            "Step 79: State=[0.19352599 0.01305893], Reward=-1.0\n",
            "Step 80: State=[0.20549455 0.01196857], Reward=-1.0\n",
            "Step 81: State=[0.21642333 0.01092878], Reward=-1.0\n",
            "Step 82: State=[0.22636079 0.00993746], Reward=-1.0\n",
            "Step 83: State=[0.23535288 0.00899209], Reward=-1.0\n",
            "Step 84: State=[0.24344266 0.00808978], Reward=-1.0\n",
            "Step 85: State=[0.25067004 0.00722739], Reward=-1.0\n",
            "Step 86: State=[0.25707164 0.00640159], Reward=-1.0\n",
            "Step 87: State=[0.26268057 0.00560893], Reward=-1.0\n",
            "Step 88: State=[0.26752641 0.00484584], Reward=-1.0\n",
            "Step 89: State=[0.27163512 0.00410871], Reward=-1.0\n",
            "Step 90: State=[0.27502899 0.00339387], Reward=-1.0\n",
            "Step 91: State=[0.27772662 0.00269763], Reward=-1.0\n",
            "Step 92: State=[0.27974294 0.00201632], Reward=-1.0\n",
            "Step 93: State=[0.28108917 0.00134623], Reward=-1.0\n",
            "Step 94: State=[0.28177283 0.00068366], Reward=-1.0\n",
            "Step 95: State=[2.81797758e-01 2.49288933e-05], Reward=-1.0\n",
            "Step 96: State=[ 0.28116409 -0.00063366], Reward=-1.0\n",
            "Step 97: State=[ 0.27786828 -0.00329581], Reward=-1.0\n",
            "Step 98: State=[ 0.27189195 -0.00597634], Reward=-1.0\n",
            "Step 99: State=[ 0.26320217 -0.00868978], Reward=-1.0\n",
            "Step 100: State=[ 0.25175208 -0.01145009], Reward=-1.0\n",
            "Step 101: State=[ 0.23748175 -0.01427033], Reward=-1.0\n",
            "Step 102: State=[ 0.2203195  -0.01716224], Reward=-1.0\n",
            "Step 103: State=[ 0.20018375 -0.02013576], Reward=-1.0\n",
            "Step 104: State=[ 0.17698543 -0.02319832], Reward=-1.0\n",
            "Step 105: State=[ 0.15063131 -0.02635412], Reward=-1.0\n",
            "Step 106: State=[ 0.12102813 -0.02960318], Reward=-1.0\n",
            "Step 107: State=[ 0.08808794 -0.03294019], Reward=-1.0\n",
            "Step 108: State=[ 0.05173453 -0.03635341], Reward=-1.0\n",
            "Step 109: State=[ 0.01191118 -0.03982336], Reward=-1.0\n",
            "Step 110: State=[-0.03141058 -0.04332176], Reward=-1.0\n",
            "Step 111: State=[-0.07822125 -0.04681067], Reward=-1.0\n",
            "Step 112: State=[-0.1284634  -0.05024215], Reward=-1.0\n",
            "Step 113: State=[-0.18202218 -0.05355878], Reward=-1.0\n",
            "Step 114: State=[-0.23871739 -0.05669521], Reward=-1.0\n",
            "Step 115: State=[-0.29829845 -0.05958106], Reward=-1.0\n",
            "Step 116: State=[-0.36044351 -0.06214506], Reward=-1.0\n",
            "Step 117: State=[-0.42476395 -0.06432044], Reward=-1.0\n",
            "Step 118: State=[-0.49081485 -0.06605089], Reward=-1.0\n",
            "Step 119: State=[-0.55811122 -0.06729638], Reward=-1.0\n",
            "Step 120: State=[-0.62614921 -0.06803799], Reward=-1.0\n",
            "Step 121: State=[-0.69443016 -0.06828094], Reward=-1.0\n",
            "Step 122: State=[-0.76248522 -0.06805506], Reward=-1.0\n",
            "Step 123: State=[-0.8298981  -0.06741289], Reward=-1.0\n",
            "Step 124: State=[-0.89632366 -0.06642555], Reward=-1.0\n",
            "Step 125: State=[-0.96150095 -0.06517729], Reward=-1.0\n",
            "Step 126: State=[-1.02526041 -0.06375946], Reward=-1.0\n",
            "Step 127: State=[-1.08752528 -0.06226487], Reward=-1.0\n",
            "Step 128: State=[-1.14830842 -0.06078314], Reward=-1.0\n",
            "Step 129: State=[-1.2  0. ], Reward=-1.0\n",
            "Step 130: State=[-1.1987581  0.0012419], Reward=-1.0\n",
            "Step 131: State=[-1.19427021  0.0044879 ], Reward=-1.0\n",
            "Step 132: State=[-1.18652173  0.00774848], Reward=-1.0\n",
            "Step 133: State=[-1.17548846  0.01103326], Reward=-1.0\n",
            "Step 134: State=[-1.16113808  0.01435038], Reward=-1.0\n",
            "Step 135: State=[-1.14343234  0.01770574], Reward=-1.0\n",
            "Step 136: State=[-1.12233007  0.02110228], Reward=-1.0\n",
            "Step 137: State=[-1.09779103  0.02453904], Reward=-1.0\n",
            "Step 138: State=[-1.06978073  0.0280103 ], Reward=-1.0\n",
            "Step 139: State=[-1.03827616  0.03150456], Reward=-1.0\n",
            "Step 140: State=[-1.0032725   0.03500367], Reward=-1.0\n",
            "Step 141: State=[-0.9647905   0.03848199], Reward=-1.0\n",
            "Step 142: State=[-0.92288452  0.04190598], Reward=-1.0\n",
            "Step 143: State=[-0.87765038  0.04523414], Reward=-1.0\n",
            "Step 144: State=[-0.82923273  0.04841765], Reward=-1.0\n",
            "Step 145: State=[-0.77783078  0.05140195], Reward=-1.0\n",
            "Step 146: State=[-0.72370164  0.05412914], Reward=-1.0\n",
            "Step 147: State=[-0.66716026  0.05654138], Reward=-1.0\n",
            "Step 148: State=[-0.60857514  0.05858511], Reward=-1.0\n",
            "Step 149: State=[-0.54835959  0.06021555], Reward=-1.0\n",
            "Step 150: State=[-0.4869585   0.06140109], Reward=-1.0\n",
            "Step 151: State=[-0.42483166  0.06212684], Reward=-1.0\n",
            "Step 152: State=[-0.36243478  0.06239688], Reward=-1.0\n",
            "Step 153: State=[-0.30020009  0.06223469], Reward=-1.0\n",
            "Step 154: State=[-0.23851824  0.06168185], Reward=-1.0\n",
            "Step 155: State=[-0.17772322  0.06079502], Reward=-1.0\n",
            "Step 156: State=[-0.1180812   0.05964202], Reward=-1.0\n",
            "Step 157: State=[-0.05978395  0.05829725], Reward=-1.0\n",
            "Step 158: State=[-0.0029466   0.05683735], Reward=-1.0\n",
            "Step 159: State=[0.05239085 0.05533745], Reward=-1.0\n",
            "Step 160: State=[0.10625911 0.05386826], Reward=-1.0\n",
            "Step 161: State=[0.15875332 0.05249421], Reward=-1.0\n",
            "Step 162: State=[0.21002575 0.05127242], Reward=-1.0\n",
            "Step 163: State=[0.26027822 0.05025247], Reward=-1.0\n",
            "Step 164: State=[0.30975487 0.04947665], Reward=-1.0\n",
            "Step 165: State=[0.35873547 0.0489806 ], Reward=-1.0\n",
            "Step 166: State=[0.40752939 0.04879392], Reward=-1.0\n",
            "Step 167: State=[0.45647027 0.04894088], Reward=-1.0\n",
            "Step 168: State=[0.50591109 0.04944082], Reward=-1.0\n"
          ]
        }
      ],
      "source": [
        "import gym\n",
        "\n",
        "if COLAB:\n",
        "    env = wrap_env(gym.make(\"MountainCar-v0\"))\n",
        "else:\n",
        "    env = gym.make(\"MountainCar-v0\")\n",
        "\n",
        "state = env.reset()\n",
        "done = False\n",
        "\n",
        "i = 0\n",
        "while not done:\n",
        "    i += 1\n",
        "\n",
        "    if state[1] > 0:\n",
        "        action = 2\n",
        "    else:\n",
        "        action = 0\n",
        "\n",
        "    state, reward, done, _ = env.step(action)\n",
        "    env.render()\n",
        "    print(f\"Step {i}: State={state}, Reward={reward}\")\n",
        "\n",
        "env.close()\n"
      ]
    },
    {
      "cell_type": "markdown",
      "metadata": {
        "id": "eDSKmI___tEl"
      },
      "source": [
        "We now visualize the preprogrammed car solving the problem."
      ]
    },
    {
      "cell_type": "code",
      "execution_count": 8,
      "metadata": {
        "colab": {
          "base_uri": "https://localhost:8080/",
          "height": 421
        },
        "id": "_FyIrJokfDA6",
        "outputId": "3f6b0417-3c2c-473c-9003-5bceff01ae03"
      },
      "outputs": [
        {
          "output_type": "display_data",
          "data": {
            "text/plain": [
              "<IPython.core.display.HTML object>"
            ],
            "text/html": [
              "<video alt=\"test\" autoplay \n",
              "                loop controls style=\"height: 400px;\">\n",
              "                <source src=\"data:video/mp4;base64,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\" \n",
              "                type=\"video/mp4\" />\n",
              "             </video>"
            ]
          },
          "metadata": {}
        }
      ],
      "source": [
        "# HIDE OUTPUT\n",
        "show_video()"
      ]
    },
    {
      "cell_type": "markdown",
      "metadata": {
        "id": "QAyqqoy9-Nog"
      },
      "source": [
        "### Reinforcement Learning\n",
        "\n",
        "Q-Learning is a system of rewards that the algorithm gives an agent for successfully moving the environment into a state considered successful. These rewards are the Q-values from which this algorithm takes its name. The final output from the Q-Learning algorithm is a table of Q-values that indicate the reward value of every action that the agent can take, given every possible environment state. The agent must bin continuous state values into a fixed finite number of columns.\n",
        "\n",
        "Learning occurs when the algorithm runs the agent and environment through episodes and updates the Q-values based on the rewards received from actions taken; Figure 12.REINF provides a high-level overview of this reinforcement or Q-Learning loop.\n",
        "\n",
        "**Figure 12.REINF:Reinforcement/Q Learning**\n",
        "![Reinforcement Learning](https://raw.githubusercontent.com/jeffheaton/t81_558_deep_learning/master/images/reinforcement.png \"Reinforcement Learning\")\n",
        "\n",
        "The Q-values can dictate action by selecting the action column with the highest Q-value for the current environment state. The choice between choosing a random action and a Q-value-driven action is governed by the epsilon ($\\epsilon$) parameter, the probability of random action.\n",
        "\n",
        "Each time through the training loop, the training algorithm updates the Q-values according to the following equation.\n"
      ]
    },
    {
      "cell_type": "markdown",
      "metadata": {
        "id": "NzZnd9Tj7rNc"
      },
      "source": [
        "$Q^{new}(s_{t},a_{t}) \\leftarrow \\underbrace{Q(s_{t},a_{t})}_{\\text{old value}} + \\underbrace{\\alpha}_{\\text{learning rate}} \\cdot  \\overbrace{\\bigg( \\underbrace{\\underbrace{r_{t}}_{\\text{reward}} + \\underbrace{\\gamma}_{\\text{discount factor}} \\cdot \\underbrace{\\max_{a}Q(s_{t+1}, a)}_{\\text{estimate of optimal future value}}}_{\\text{new value (temporal difference target)}} - \\underbrace{Q(s_{t},a_{t})}_{\\text{old value}} \\bigg) }^{\\text{temporal difference}}$\n",
        "\n",
        "There are several parameters in this equation:\n",
        "* alpha ($\\alpha$) - The learning rate, how much should the current step cause the Q-values to be updated.\n",
        "* lambda ($\\lambda$) - The discount factor is the percentage of future reward that the algorithm should consider in this update.\n",
        "\n",
        "This equation modifies several values:\n",
        "\n",
        "* $Q(s_t,a_t)$ - The Q-table.  For each combination of states, what reward would the agent likely receive for performing each action?\n",
        "* $s_t$ - The current state.\n",
        "* $r_t$ - The last reward received.\n",
        "* $a_t$ - The action that the agent will perform.\n",
        "\n",
        "The equation works by calculating a delta (temporal difference) that the equation should apply to the old state. This learning rate ($\\alpha$) scales this delta. A learning rate of 1.0 would fully implement the temporal difference in the Q-values each iteration and would likely be very chaotic.\n",
        "\n",
        "There are two parts to the temporal difference: the new and old values. The new value is subtracted from the old value to provide a delta; the full amount we would change the Q-value by if the learning rate did not scale this value. The new value is a summation of the reward received from the last action and the maximum Q-values from the resulting state when the client takes this action. Adding the maximum of action Q-values for the new state is essential because it estimates the optimal future values from proceeding with this action. \n",
        "\n",
        "## Q-Learning Car\n",
        "\n",
        "We will now use Q-Learning to produce a car that learns to drive itself. Look out, Tesla! We begin by defining two essential functions.\n"
      ]
    },
    {
      "cell_type": "code",
      "execution_count": 9,
      "metadata": {
        "id": "UrQgXqbS-Noi"
      },
      "outputs": [],
      "source": [
        "import gym\n",
        "import numpy as np\n",
        "\n",
        "# This function converts the floating point state values into\n",
        "# discrete values. This is often called binning.  We divide\n",
        "# the range that the state values might occupy and assign\n",
        "# each region to a bucket.\n",
        "def calc_discrete_state(state):\n",
        "    discrete_state = (state - env.observation_space.low)/buckets\n",
        "    return tuple(discrete_state.astype(int))\n",
        "\n",
        "# Run one game.  The q_table to use is provided.  We also\n",
        "# provide a flag to indicate if the game should be\n",
        "# rendered/animated.  Finally, we also provide\n",
        "# a flag to indicate if the q_table should be updated.\n",
        "def run_game(q_table, render, should_update):\n",
        "    done = False\n",
        "    discrete_state = calc_discrete_state(env.reset())\n",
        "    success = False\n",
        "\n",
        "    while not done:\n",
        "        # Exploit or explore\n",
        "        if np.random.random() > epsilon:\n",
        "            # Exploit - use q-table to take current best action\n",
        "            # (and probably refine)\n",
        "            action = np.argmax(q_table[discrete_state])\n",
        "        else:\n",
        "            # Explore - t\n",
        "            action = np.random.randint(0, env.action_space.n)\n",
        "\n",
        "        # Run simulation step\n",
        "        new_state, reward, done, _ = env.step(action)\n",
        "\n",
        "        # Convert continuous state to discrete\n",
        "        new_state_disc = calc_discrete_state(new_state)\n",
        "\n",
        "        # Have we reached the goal position (have we won?)?\n",
        "        if new_state[0] >= env.unwrapped.goal_position:\n",
        "            success = True\n",
        "\n",
        "        # Update q-table\n",
        "        if should_update:\n",
        "            max_future_q = np.max(q_table[new_state_disc])\n",
        "            current_q = q_table[discrete_state + (action,)]\n",
        "            new_q = (1 - LEARNING_RATE) * current_q + LEARNING_RATE * \\\n",
        "                (reward + DISCOUNT * max_future_q)\n",
        "            q_table[discrete_state + (action,)] = new_q\n",
        "\n",
        "        discrete_state = new_state_disc\n",
        "\n",
        "        if render:\n",
        "            env.render()\n",
        "\n",
        "    return success\n"
      ]
    },
    {
      "cell_type": "markdown",
      "metadata": {
        "id": "n3j1M4MddIBF"
      },
      "source": [
        "Several hyperparameters are very important for Q-Learning. These parameters will likely need adjustment as you apply Q-Learning to other problems. Because of this, it is crucial to understand the role of each parameter.\n",
        "\n",
        "* **LEARNING_RATE** The rate at which previous Q-values are updated based on new episodes run during training. \n",
        "* **DISCOUNT** The amount of significance to give estimates of future rewards when added to the reward for the current action taken. A value of 0.95 would indicate a discount of 5% on the future reward estimates. \n",
        "* **EPISODES** The number of episodes to train over. Increase this for more complex problems; however, training time also increases.\n",
        "* **SHOW_EVERY** How many episodes to allow to elapse before showing an update.\n",
        "* **DISCRETE_GRID_SIZE** How many buckets to use when converting each continuous state variable. For example, [10, 10] indicates that the algorithm should use ten buckets for the first and second state variables.\n",
        "* **START_EPSILON_DECAYING** Epsilon is the probability that the agent will select a random action over what the Q-Table suggests. This value determines the starting probability of randomness.\n",
        "* **END_EPSILON_DECAYING** How many episodes should elapse before epsilon goes to zero and no random actions are permitted. For example, EPISODES//10  means only the first 1/10th of the episodes might have random actions."
      ]
    },
    {
      "cell_type": "code",
      "execution_count": 10,
      "metadata": {
        "id": "rI0TJc7T-Nol"
      },
      "outputs": [],
      "source": [
        "LEARNING_RATE = 0.1\n",
        "DISCOUNT = 0.95\n",
        "EPISODES = 50000\n",
        "SHOW_EVERY = 1000\n",
        "\n",
        "DISCRETE_GRID_SIZE = [10, 10]\n",
        "START_EPSILON_DECAYING = 0.5\n",
        "END_EPSILON_DECAYING = EPISODES//10\n"
      ]
    },
    {
      "cell_type": "markdown",
      "metadata": {
        "id": "Rw3SjzSyAktT"
      },
      "source": [
        "We can now make the environment.  If we are running in Google COLAB, we wrap the environment to be displayed inside the web browser.  Next, create the discrete buckets for state and build Q-table."
      ]
    },
    {
      "cell_type": "code",
      "execution_count": 11,
      "metadata": {
        "id": "2IdL-46y-Noo"
      },
      "outputs": [],
      "source": [
        "if COLAB:\n",
        "    env = wrap_env(gym.make(\"MountainCar-v0\"))\n",
        "else:\n",
        "    env = gym.make(\"MountainCar-v0\")\n",
        "\n",
        "epsilon = 1\n",
        "epsilon_change = epsilon/(END_EPSILON_DECAYING - START_EPSILON_DECAYING)\n",
        "buckets = (env.observation_space.high - env.observation_space.low) \\\n",
        "    / DISCRETE_GRID_SIZE\n",
        "q_table = np.random.uniform(low=-3, high=0, size=(DISCRETE_GRID_SIZE\n",
        "                                                  + [env.action_space.n]))\n",
        "success = False\n"
      ]
    },
    {
      "cell_type": "markdown",
      "metadata": {
        "id": "Z2qG3ayDsRWz"
      },
      "source": [
        "We can now make the environment.  If we are running in Google COLAB, we wrap the environment to be displayed inside the web browser.  Next, create the discrete buckets for state and build Q-table."
      ]
    },
    {
      "cell_type": "code",
      "execution_count": 12,
      "metadata": {
        "colab": {
          "base_uri": "https://localhost:8080/"
        },
        "id": "Ot7cF0bX-Nor",
        "outputId": "14a460d1-4698-4e67-8e3b-8bb43c4dc0a8"
      },
      "outputs": [
        {
          "output_type": "stream",
          "name": "stdout",
          "text": [
            "Current episode: 1000, success: 0 0.0\n",
            "Current episode: 2000, success: 0 0.0\n",
            "Current episode: 3000, success: 0 0.0\n",
            "Current episode: 4000, success: 43 0.043\n",
            "Current episode: 5000, success: 294 0.294\n",
            "Current episode: 6000, success: 822 0.822\n",
            "Current episode: 7000, success: 823 0.823\n",
            "Current episode: 8000, success: 941 0.941\n",
            "Current episode: 9000, success: 969 0.969\n",
            "Current episode: 10000, success: 1000 1.0\n",
            "Current episode: 11000, success: 1000 1.0\n",
            "Current episode: 12000, success: 1000 1.0\n",
            "Current episode: 13000, success: 1000 1.0\n",
            "Current episode: 14000, success: 1000 1.0\n",
            "Current episode: 15000, success: 1000 1.0\n",
            "Current episode: 16000, success: 1000 1.0\n",
            "Current episode: 17000, success: 1000 1.0\n",
            "Current episode: 18000, success: 1000 1.0\n",
            "Current episode: 19000, success: 1000 1.0\n",
            "Current episode: 20000, success: 1000 1.0\n",
            "Current episode: 21000, success: 1000 1.0\n",
            "Current episode: 22000, success: 1000 1.0\n",
            "Current episode: 23000, success: 1000 1.0\n",
            "Current episode: 24000, success: 1000 1.0\n",
            "Current episode: 25000, success: 1000 1.0\n",
            "Current episode: 26000, success: 1000 1.0\n",
            "Current episode: 27000, success: 999 0.999\n",
            "Current episode: 28000, success: 999 0.999\n",
            "Current episode: 29000, success: 1000 1.0\n",
            "Current episode: 30000, success: 1000 1.0\n",
            "Current episode: 31000, success: 1000 1.0\n",
            "Current episode: 32000, success: 1000 1.0\n",
            "Current episode: 33000, success: 1000 1.0\n",
            "Current episode: 34000, success: 1000 1.0\n",
            "Current episode: 35000, success: 1000 1.0\n",
            "Current episode: 36000, success: 1000 1.0\n",
            "Current episode: 37000, success: 1000 1.0\n",
            "Current episode: 38000, success: 998 0.998\n",
            "Current episode: 39000, success: 996 0.996\n",
            "Current episode: 40000, success: 999 0.999\n",
            "Current episode: 41000, success: 997 0.997\n",
            "Current episode: 42000, success: 995 0.995\n",
            "Current episode: 43000, success: 1000 1.0\n",
            "Current episode: 44000, success: 1000 1.0\n",
            "Current episode: 45000, success: 1000 1.0\n",
            "Current episode: 46000, success: 997 0.997\n",
            "Current episode: 47000, success: 1000 1.0\n",
            "Current episode: 48000, success: 1000 1.0\n",
            "Current episode: 49000, success: 1000 1.0\n",
            "Current episode: 50000, success: 996 0.996\n",
            "True\n"
          ]
        }
      ],
      "source": [
        "episode = 0\n",
        "success_count = 0\n",
        "\n",
        "# Loop through the required number of episodes\n",
        "while episode < EPISODES:\n",
        "    episode += 1\n",
        "    done = False\n",
        "\n",
        "    # Run the game.  If we are local, display render animation\n",
        "    # at SHOW_EVERY intervals.\n",
        "    if episode % SHOW_EVERY == 0:\n",
        "        print(f\"Current episode: {episode}, success: {success_count}\" +\n",
        "              f\" {(float(success_count)/SHOW_EVERY)}\")\n",
        "        success = run_game(q_table, True, False)\n",
        "        success_count = 0\n",
        "    else:\n",
        "        success = run_game(q_table, False, True)\n",
        "\n",
        "    # Count successes\n",
        "    if success:\n",
        "        success_count += 1\n",
        "\n",
        "    # Move epsilon towards its ending value, if it still needs to move\n",
        "    if END_EPSILON_DECAYING >= episode >= START_EPSILON_DECAYING:\n",
        "        epsilon = max(0, epsilon - epsilon_change)\n",
        "\n",
        "print(success)\n"
      ]
    },
    {
      "cell_type": "markdown",
      "metadata": {
        "id": "kDHTQkREFRSE"
      },
      "source": [
        "As you can see, the number of successful episodes generally increases as training progresses. It is not advisable to stop the first time we observe 100% success over 1,000 episodes. There is a randomness to most games, so it is not likely that an agent would retain its 100% success rate with a new run. It might be safe to stop training once you observe that the agent has gotten 100% for several update intervals.\n",
        "\n",
        "## Running and Observing the Agent\n",
        "\n",
        "Now that the algorithm has trained the agent, we can observe the agent in action. You can use the following code to see the agent in action."
      ]
    },
    {
      "cell_type": "code",
      "execution_count": 13,
      "metadata": {
        "colab": {
          "base_uri": "https://localhost:8080/",
          "height": 421
        },
        "id": "v_mf3A0h-Nox",
        "outputId": "3eb4b701-0b83-4698-8204-5a21a34834fa"
      },
      "outputs": [
        {
          "output_type": "display_data",
          "data": {
            "text/plain": [
              "<IPython.core.display.HTML object>"
            ],
            "text/html": [
              "<video alt=\"test\" autoplay \n",
              "                loop controls style=\"height: 400px;\">\n",
              "                <source src=\"data:video/mp4;base64,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\" \n",
              "                type=\"video/mp4\" />\n",
              "             </video>"
            ]
          },
          "metadata": {}
        }
      ],
      "source": [
        "# HIDE OUTPUT\n",
        "\n",
        "run_game(q_table, True, False)\n",
        "show_video()\n"
      ]
    },
    {
      "cell_type": "markdown",
      "metadata": {
        "id": "WeQzNFSosdys"
      },
      "source": [
        "## Inspecting the Q-Table\n",
        "\n",
        "We can also display the Q-table. The following code shows the agent's action for each environment state. As the weights of a neural network, this table is not straightforward to interpret. Some patterns do emerge in that direction, as seen by calculating the means of rows and columns. The actions seem consistent at both velocity and position's upper and lower halves."
      ]
    },
    {
      "cell_type": "code",
      "execution_count": 14,
      "metadata": {
        "colab": {
          "base_uri": "https://localhost:8080/",
          "height": 363
        },
        "id": "L62lyCTr-Noz",
        "outputId": "ebdc87fc-38bb-4ef2-e554-8c0ce41d6622"
      },
      "outputs": [
        {
          "output_type": "execute_result",
          "data": {
            "text/plain": [
              "     v-0  v-1  v-2  v-3  v-4  v-5  v-6  v-7  v-8  v-9\n",
              "p-0    0    2    0    2    2    2    2    2    1    1\n",
              "p-1    0    0    2    2    1    1    2    2    1    2\n",
              "p-2    1    1    0    0    2    2    2    2    2    1\n",
              "p-3    0    0    0    0    0    1    2    2    2    2\n",
              "p-4    2    0    1    0    0    0    2    2    2    2\n",
              "p-5    0    0    0    1    0    1    0    2    2    1\n",
              "p-6    1    1    0    0    0    0    1    0    2    1\n",
              "p-7    1    0    1    0    0    0    1    2    2    0\n",
              "p-8    2    0    1    2    0    1    1    2    0    2\n",
              "p-9    2    2    2    0    0    1    0    2    2    0"
            ],
            "text/html": [
              "\n",
              "  <div id=\"df-612c5e81-837f-429c-af03-56bc63522c6c\">\n",
              "    <div class=\"colab-df-container\">\n",
              "      <div>\n",
              "<style scoped>\n",
              "    .dataframe tbody tr th:only-of-type {\n",
              "        vertical-align: middle;\n",
              "    }\n",
              "\n",
              "    .dataframe tbody tr th {\n",
              "        vertical-align: top;\n",
              "    }\n",
              "\n",
              "    .dataframe thead th {\n",
              "        text-align: right;\n",
              "    }\n",
              "</style>\n",
              "<table border=\"1\" class=\"dataframe\">\n",
              "  <thead>\n",
              "    <tr style=\"text-align: right;\">\n",
              "      <th></th>\n",
              "      <th>v-0</th>\n",
              "      <th>v-1</th>\n",
              "      <th>v-2</th>\n",
              "      <th>v-3</th>\n",
              "      <th>v-4</th>\n",
              "      <th>v-5</th>\n",
              "      <th>v-6</th>\n",
              "      <th>v-7</th>\n",
              "      <th>v-8</th>\n",
              "      <th>v-9</th>\n",
              "    </tr>\n",
              "  </thead>\n",
              "  <tbody>\n",
              "    <tr>\n",
              "      <th>p-0</th>\n",
              "      <td>0</td>\n",
              "      <td>2</td>\n",
              "      <td>0</td>\n",
              "      <td>2</td>\n",
              "      <td>2</td>\n",
              "      <td>2</td>\n",
              "      <td>2</td>\n",
              "      <td>2</td>\n",
              "      <td>1</td>\n",
              "      <td>1</td>\n",
              "    </tr>\n",
              "    <tr>\n",
              "      <th>p-1</th>\n",
              "      <td>0</td>\n",
              "      <td>0</td>\n",
              "      <td>2</td>\n",
              "      <td>2</td>\n",
              "      <td>1</td>\n",
              "      <td>1</td>\n",
              "      <td>2</td>\n",
              "      <td>2</td>\n",
              "      <td>1</td>\n",
              "      <td>2</td>\n",
              "    </tr>\n",
              "    <tr>\n",
              "      <th>p-2</th>\n",
              "      <td>1</td>\n",
              "      <td>1</td>\n",
              "      <td>0</td>\n",
              "      <td>0</td>\n",
              "      <td>2</td>\n",
              "      <td>2</td>\n",
              "      <td>2</td>\n",
              "      <td>2</td>\n",
              "      <td>2</td>\n",
              "      <td>1</td>\n",
              "    </tr>\n",
              "    <tr>\n",
              "      <th>p-3</th>\n",
              "      <td>0</td>\n",
              "      <td>0</td>\n",
              "      <td>0</td>\n",
              "      <td>0</td>\n",
              "      <td>0</td>\n",
              "      <td>1</td>\n",
              "      <td>2</td>\n",
              "      <td>2</td>\n",
              "      <td>2</td>\n",
              "      <td>2</td>\n",
              "    </tr>\n",
              "    <tr>\n",
              "      <th>p-4</th>\n",
              "      <td>2</td>\n",
              "      <td>0</td>\n",
              "      <td>1</td>\n",
              "      <td>0</td>\n",
              "      <td>0</td>\n",
              "      <td>0</td>\n",
              "      <td>2</td>\n",
              "      <td>2</td>\n",
              "      <td>2</td>\n",
              "      <td>2</td>\n",
              "    </tr>\n",
              "    <tr>\n",
              "      <th>p-5</th>\n",
              "      <td>0</td>\n",
              "      <td>0</td>\n",
              "      <td>0</td>\n",
              "      <td>1</td>\n",
              "      <td>0</td>\n",
              "      <td>1</td>\n",
              "      <td>0</td>\n",
              "      <td>2</td>\n",
              "      <td>2</td>\n",
              "      <td>1</td>\n",
              "    </tr>\n",
              "    <tr>\n",
              "      <th>p-6</th>\n",
              "      <td>1</td>\n",
              "      <td>1</td>\n",
              "      <td>0</td>\n",
              "      <td>0</td>\n",
              "      <td>0</td>\n",
              "      <td>0</td>\n",
              "      <td>1</td>\n",
              "      <td>0</td>\n",
              "      <td>2</td>\n",
              "      <td>1</td>\n",
              "    </tr>\n",
              "    <tr>\n",
              "      <th>p-7</th>\n",
              "      <td>1</td>\n",
              "      <td>0</td>\n",
              "      <td>1</td>\n",
              "      <td>0</td>\n",
              "      <td>0</td>\n",
              "      <td>0</td>\n",
              "      <td>1</td>\n",
              "      <td>2</td>\n",
              "      <td>2</td>\n",
              "      <td>0</td>\n",
              "    </tr>\n",
              "    <tr>\n",
              "      <th>p-8</th>\n",
              "      <td>2</td>\n",
              "      <td>0</td>\n",
              "      <td>1</td>\n",
              "      <td>2</td>\n",
              "      <td>0</td>\n",
              "      <td>1</td>\n",
              "      <td>1</td>\n",
              "      <td>2</td>\n",
              "      <td>0</td>\n",
              "      <td>2</td>\n",
              "    </tr>\n",
              "    <tr>\n",
              "      <th>p-9</th>\n",
              "      <td>2</td>\n",
              "      <td>2</td>\n",
              "      <td>2</td>\n",
              "      <td>0</td>\n",
              "      <td>0</td>\n",
              "      <td>1</td>\n",
              "      <td>0</td>\n",
              "      <td>2</td>\n",
              "      <td>2</td>\n",
              "      <td>0</td>\n",
              "    </tr>\n",
              "  </tbody>\n",
              "</table>\n",
              "</div>\n",
              "      <button class=\"colab-df-convert\" onclick=\"convertToInteractive('df-612c5e81-837f-429c-af03-56bc63522c6c')\"\n",
              "              title=\"Convert this dataframe to an interactive table.\"\n",
              "              style=\"display:none;\">\n",
              "        \n",
              "  <svg xmlns=\"http://www.w3.org/2000/svg\" height=\"24px\"viewBox=\"0 0 24 24\"\n",
              "       width=\"24px\">\n",
              "    <path d=\"M0 0h24v24H0V0z\" fill=\"none\"/>\n",
              "    <path d=\"M18.56 5.44l.94 2.06.94-2.06 2.06-.94-2.06-.94-.94-2.06-.94 2.06-2.06.94zm-11 1L8.5 8.5l.94-2.06 2.06-.94-2.06-.94L8.5 2.5l-.94 2.06-2.06.94zm10 10l.94 2.06.94-2.06 2.06-.94-2.06-.94-.94-2.06-.94 2.06-2.06.94z\"/><path d=\"M17.41 7.96l-1.37-1.37c-.4-.4-.92-.59-1.43-.59-.52 0-1.04.2-1.43.59L10.3 9.45l-7.72 7.72c-.78.78-.78 2.05 0 2.83L4 21.41c.39.39.9.59 1.41.59.51 0 1.02-.2 1.41-.59l7.78-7.78 2.81-2.81c.8-.78.8-2.07 0-2.86zM5.41 20L4 18.59l7.72-7.72 1.47 1.35L5.41 20z\"/>\n",
              "  </svg>\n",
              "      </button>\n",
              "      \n",
              "  <style>\n",
              "    .colab-df-container {\n",
              "      display:flex;\n",
              "      flex-wrap:wrap;\n",
              "      gap: 12px;\n",
              "    }\n",
              "\n",
              "    .colab-df-convert {\n",
              "      background-color: #E8F0FE;\n",
              "      border: none;\n",
              "      border-radius: 50%;\n",
              "      cursor: pointer;\n",
              "      display: none;\n",
              "      fill: #1967D2;\n",
              "      height: 32px;\n",
              "      padding: 0 0 0 0;\n",
              "      width: 32px;\n",
              "    }\n",
              "\n",
              "    .colab-df-convert:hover {\n",
              "      background-color: #E2EBFA;\n",
              "      box-shadow: 0px 1px 2px rgba(60, 64, 67, 0.3), 0px 1px 3px 1px rgba(60, 64, 67, 0.15);\n",
              "      fill: #174EA6;\n",
              "    }\n",
              "\n",
              "    [theme=dark] .colab-df-convert {\n",
              "      background-color: #3B4455;\n",
              "      fill: #D2E3FC;\n",
              "    }\n",
              "\n",
              "    [theme=dark] .colab-df-convert:hover {\n",
              "      background-color: #434B5C;\n",
              "      box-shadow: 0px 1px 3px 1px rgba(0, 0, 0, 0.15);\n",
              "      filter: drop-shadow(0px 1px 2px rgba(0, 0, 0, 0.3));\n",
              "      fill: #FFFFFF;\n",
              "    }\n",
              "  </style>\n",
              "\n",
              "      <script>\n",
              "        const buttonEl =\n",
              "          document.querySelector('#df-612c5e81-837f-429c-af03-56bc63522c6c button.colab-df-convert');\n",
              "        buttonEl.style.display =\n",
              "          google.colab.kernel.accessAllowed ? 'block' : 'none';\n",
              "\n",
              "        async function convertToInteractive(key) {\n",
              "          const element = document.querySelector('#df-612c5e81-837f-429c-af03-56bc63522c6c');\n",
              "          const dataTable =\n",
              "            await google.colab.kernel.invokeFunction('convertToInteractive',\n",
              "                                                     [key], {});\n",
              "          if (!dataTable) return;\n",
              "\n",
              "          const docLinkHtml = 'Like what you see? Visit the ' +\n",
              "            '<a target=\"_blank\" href=https://colab.research.google.com/notebooks/data_table.ipynb>data table notebook</a>'\n",
              "            + ' to learn more about interactive tables.';\n",
              "          element.innerHTML = '';\n",
              "          dataTable['output_type'] = 'display_data';\n",
              "          await google.colab.output.renderOutput(dataTable, element);\n",
              "          const docLink = document.createElement('div');\n",
              "          docLink.innerHTML = docLinkHtml;\n",
              "          element.appendChild(docLink);\n",
              "        }\n",
              "      </script>\n",
              "    </div>\n",
              "  </div>\n",
              "  "
            ]
          },
          "metadata": {},
          "execution_count": 14
        }
      ],
      "source": [
        "import pandas as pd\n",
        "\n",
        "df = pd.DataFrame(q_table.argmax(axis=2))\n",
        "\n",
        "df.columns = [f'v-{x}' for x in range(DISCRETE_GRID_SIZE[0])]\n",
        "df.index = [f'p-{x}' for x in range(DISCRETE_GRID_SIZE[1])]\n",
        "df\n"
      ]
    },
    {
      "cell_type": "code",
      "execution_count": 15,
      "metadata": {
        "colab": {
          "base_uri": "https://localhost:8080/"
        },
        "id": "Z-ZOL-d5Jbon",
        "outputId": "311c46fe-315d-4fea-fe9e-d2196c1c3212"
      },
      "outputs": [
        {
          "output_type": "execute_result",
          "data": {
            "text/plain": [
              "v-0    0.9\n",
              "v-1    0.6\n",
              "v-2    0.7\n",
              "v-3    0.7\n",
              "v-4    0.5\n",
              "v-5    0.9\n",
              "v-6    1.3\n",
              "v-7    1.8\n",
              "v-8    1.6\n",
              "v-9    1.2\n",
              "dtype: float64"
            ]
          },
          "metadata": {},
          "execution_count": 15
        }
      ],
      "source": [
        "df.mean(axis=0)"
      ]
    },
    {
      "cell_type": "code",
      "execution_count": 16,
      "metadata": {
        "colab": {
          "base_uri": "https://localhost:8080/"
        },
        "id": "LOGA4HP9KHW3",
        "outputId": "ded63142-dd83-48ca-ea10-d10cfa9b8222"
      },
      "outputs": [
        {
          "output_type": "execute_result",
          "data": {
            "text/plain": [
              "p-0    1.4\n",
              "p-1    1.3\n",
              "p-2    1.3\n",
              "p-3    0.9\n",
              "p-4    1.1\n",
              "p-5    0.7\n",
              "p-6    0.6\n",
              "p-7    0.7\n",
              "p-8    1.1\n",
              "p-9    1.1\n",
              "dtype: float64"
            ]
          },
          "metadata": {},
          "execution_count": 16
        }
      ],
      "source": [
        "df.mean(axis=1)"
      ]
    },
    {
      "cell_type": "markdown",
      "source": [
        "# **Cross-Entropy method**"
      ],
      "metadata": {
        "id": "uQUPPl5sM4hf"
      }
    },
    {
      "cell_type": "code",
      "source": [
        "import gym\n",
        "import random\n",
        "import numpy as np\n",
        "from keras.models     import Sequential\n",
        "from keras.layers     import Dense\n",
        "from tensorflow.keras.optimizers import Adam"
      ],
      "metadata": {
        "id": "JQUTnT-k4wad"
      },
      "execution_count": null,
      "outputs": []
    },
    {
      "cell_type": "code",
      "source": [
        "env = gym.make('MountainCar-v0')\n",
        "env.reset()\n",
        "goal_steps = 200\n",
        "score_requirement = -198\n",
        "intial_attempts = 10000"
      ],
      "metadata": {
        "id": "o-FjXrqo4_Z1"
      },
      "execution_count": 80,
      "outputs": []
    },
    {
      "cell_type": "code",
      "source": [
        "def model_data_preparation():\n",
        "    training_data = []\n",
        "    accepted_scores = []\n",
        "    for attempt in range(intial_attempts):\n",
        "        score = 0\n",
        "        experience = []\n",
        "        previous_observation = []\n",
        "        for step_index in range(goal_steps):\n",
        "            action = random.randrange(0, 3)\n",
        "            observation, reward, done, info = env.step(action)\n",
        "            \n",
        "            if len(previous_observation) > 0:\n",
        "                experience.append([previous_observation, action])\n",
        "                \n",
        "            previous_observation = observation\n",
        "            if observation[0] > -0.2:\n",
        "                reward = 1\n",
        "            \n",
        "            score += reward\n",
        "            if done:\n",
        "                break\n",
        "            \n",
        "        if score >= score_requirement:\n",
        "            accepted_scores.append(score)\n",
        "            for data in experience:\n",
        "                if data[1] == 1:\n",
        "                    output = [0, 1, 0]\n",
        "                elif data[1] == 0:\n",
        "                    output = [1, 0, 0]\n",
        "                elif data[1] == 2:\n",
        "                    output = [0, 0, 1]\n",
        "                training_data.append([data[0], output])\n",
        "        \n",
        "        env.reset()\n",
        "    \n",
        "    print(accepted_scores)\n",
        "    \n",
        "    return training_data"
      ],
      "metadata": {
        "id": "TW4RIK734_h6"
      },
      "execution_count": 83,
      "outputs": []
    },
    {
      "cell_type": "code",
      "source": [
        "training_data = model_data_preparation()"
      ],
      "metadata": {
        "colab": {
          "base_uri": "https://localhost:8080/"
        },
        "id": "ak9DiqtJfZ0Q",
        "outputId": "811d4c88-bf80-48b1-bfe1-8fc017c894b6"
      },
      "execution_count": 85,
      "outputs": [
        {
          "output_type": "stream",
          "name": "stdout",
          "text": [
            "[-1.0, -170.0, -178.0, -166.0, -180.0, -194.0, -172.0, -180.0, -166.0, -176.0, -174.0, -176.0, -160.0, -198.0, -166.0, -196.0, -176.0, -170.0, -194.0, -178.0, -174.0, -192.0, -180.0, -186.0, -192.0, -188.0, -178.0, -190.0, -198.0, -192.0, -184.0, -174.0, -190.0, -182.0, -198.0, -186.0, -182.0, -190.0, -170.0, -184.0, -174.0, -154.0, -188.0, -154.0, -166.0, -180.0]\n"
          ]
        }
      ]
    },
    {
      "cell_type": "code",
      "source": [
        "def build_model(input_size, output_size):\n",
        "        model = Sequential()\n",
        "        model.add(Dense(128, input_dim=input_size, activation='relu'))\n",
        "        model.add(Dense(52, activation='relu'))\n",
        "        model.add(Dense(output_size, activation='sigmoid'))\n",
        "        model.compile(loss='binary_crossentropy', optimizer=Adam())\n",
        "\n",
        "        return model"
      ],
      "metadata": {
        "id": "M6DmjlrS5RKp"
      },
      "execution_count": 73,
      "outputs": []
    },
    {
      "cell_type": "code",
      "source": [
        "def train_model(training_data):\n",
        "    X = np.array([i[0] for i in training_data]).reshape(-1, len(training_data[0][0]))\n",
        "    y = np.array([i[1] for i in training_data]).reshape(-1, len(training_data[0][1]))\n",
        "    model = build_model(input_size=len(X[0]), output_size=len(y[0]))\n",
        "    \n",
        "    model.fit(X, y, epochs=5)\n",
        "    return model"
      ],
      "metadata": {
        "id": "-oq5umI15RNZ"
      },
      "execution_count": 74,
      "outputs": []
    },
    {
      "cell_type": "code",
      "source": [
        "trained_model = train_model(training_data)"
      ],
      "metadata": {
        "colab": {
          "base_uri": "https://localhost:8080/"
        },
        "id": "sJXT265F5RQn",
        "outputId": "8a99ed41-8c03-44c6-c243-6d0fab9569a6"
      },
      "execution_count": 75,
      "outputs": [
        {
          "output_type": "stream",
          "name": "stdout",
          "text": [
            "Epoch 1/5\n",
            "367/367 [==============================] - 1s 2ms/step - loss: 0.6398\n",
            "Epoch 2/5\n",
            "367/367 [==============================] - 1s 2ms/step - loss: 0.6361\n",
            "Epoch 3/5\n",
            "367/367 [==============================] - 1s 2ms/step - loss: 0.6346\n",
            "Epoch 4/5\n",
            "367/367 [==============================] - 1s 2ms/step - loss: 0.6327\n",
            "Epoch 5/5\n",
            "367/367 [==============================] - 1s 2ms/step - loss: 0.6316\n"
          ]
        }
      ]
    },
    {
      "cell_type": "code",
      "source": [
        "scores = []\n",
        "for each_attempt in range(100):\n",
        "    score = 0\n",
        "    previous_observation = []\n",
        "    for step_index in range(goal_steps):\n",
        "        if len(previous_observation)==0:\n",
        "            action = random.randrange(0,2)\n",
        "        else:\n",
        "            action = np.argmax(trained_model.predict(previous_observation.reshape(-1, len(previous_observation)))[0])\n",
        "        \n",
        "        new_observation, reward, done, info = env.step(action)\n",
        "        previous_observation = new_observation\n",
        "        score+=reward\n",
        "        if done:\n",
        "            break\n",
        "\n",
        "    env.reset()\n",
        "    scores.append(score)\n",
        "\n",
        "print(scores)\n",
        "print('Average Score:',sum(scores)/len(scores))"
      ],
      "metadata": {
        "colab": {
          "base_uri": "https://localhost:8080/"
        },
        "id": "jozZBxfn5RTL",
        "outputId": "dbf487fa-fa4e-4a80-b786-e88cd2ff4109"
      },
      "execution_count": 76,
      "outputs": [
        {
          "output_type": "stream",
          "name": "stdout",
          "text": [
            "[-128.0, -128.0, -91.0, -160.0, -96.0, -102.0, -100.0, -167.0, -131.0, -160.0, -158.0, -160.0, -164.0, -161.0, -163.0, -129.0, -164.0, -164.0, -161.0, -160.0, -143.0, -160.0, -128.0, -159.0, -130.0, -131.0, -94.0, -158.0, -158.0, -161.0, -163.0, -169.0, -160.0, -167.0, -128.0, -160.0, -160.0, -162.0, -132.0, -160.0, -89.0, -161.0, -160.0, -92.0, -164.0, -100.0, -159.0, -159.0, -128.0, -160.0, -159.0, -141.0, -162.0, -129.0, -167.0, -161.0, -160.0, -158.0, -160.0, -161.0, -158.0, -165.0, -165.0, -94.0, -159.0, -167.0, -92.0, -129.0, -93.0, -167.0, -160.0, -159.0, -161.0, -160.0, -162.0, -136.0, -98.0, -159.0, -161.0, -161.0, -185.0, -159.0, -158.0, -137.0, -160.0, -140.0, -128.0, -99.0, -159.0, -170.0, -129.0, -168.0, -163.0, -139.0, -158.0, -160.0, -164.0, -159.0, -171.0, -161.0]\n",
            "Average Score: -147.33\n"
          ]
        }
      ]
    },
    {
      "cell_type": "code",
      "source": [
        "show_video()"
      ],
      "metadata": {
        "colab": {
          "base_uri": "https://localhost:8080/",
          "height": 421
        },
        "id": "VA_qYrTQLgKy",
        "outputId": "26a82e85-b1a9-41b8-f591-e191a77c7526"
      },
      "execution_count": 78,
      "outputs": [
        {
          "output_type": "display_data",
          "data": {
            "text/plain": [
              "<IPython.core.display.HTML object>"
            ],
            "text/html": [
              "<video alt=\"test\" autoplay \n",
              "                loop controls style=\"height: 400px;\">\n",
              "                <source src=\"data:video/mp4;base64,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\" \n",
              "                type=\"video/mp4\" />\n",
              "             </video>"
            ]
          },
          "metadata": {}
        }
      ]
    }
  ],
  "metadata": {
    "anaconda-cloud": {},
    "colab": {
      "collapsed_sections": [],
      "name": "Copy of t81_558_class_12_02_qlearningreinforcement.ipynb",
      "provenance": []
    },
    "kernelspec": {
      "display_name": "Python 3.9 (tensorflow)",
      "language": "python",
      "name": "tensorflow"
    },
    "language_info": {
      "codemirror_mode": {
        "name": "ipython",
        "version": 3
      },
      "file_extension": ".py",
      "mimetype": "text/x-python",
      "name": "python",
      "nbconvert_exporter": "python",
      "pygments_lexer": "ipython3",
      "version": "3.9.7"
    },
    "varInspector": {
      "cols": {
        "lenName": 16,
        "lenType": 16,
        "lenVar": 40
      },
      "kernels_config": {
        "python": {
          "delete_cmd_postfix": "",
          "delete_cmd_prefix": "del ",
          "library": "var_list.py",
          "varRefreshCmd": "print(var_dic_list())"
        },
        "r": {
          "delete_cmd_postfix": ") ",
          "delete_cmd_prefix": "rm(",
          "library": "var_list.r",
          "varRefreshCmd": "cat(var_dic_list()) "
        }
      },
      "types_to_exclude": [
        "module",
        "function",
        "builtin_function_or_method",
        "instance",
        "_Feature"
      ],
      "window_display": false
    }
  },
  "nbformat": 4,
  "nbformat_minor": 0
}