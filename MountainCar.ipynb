{
  "cells": [
    {
      "cell_type": "markdown",
      "metadata": {
        "id": "PF0TtkQ4-NoP"
      },
      "source": [
        "<a href=\"https://colab.research.google.com/github/jeffheaton/t81_558_deep_learning/blob/master/t81_558_class_12_02_qlearningreinforcement.ipynb\" target=\"_parent\"><img src=\"https://colab.research.google.com/assets/colab-badge.svg\" alt=\"Open In Colab\"/></a>"
      ]
    },
    {
      "cell_type": "markdown",
      "metadata": {
        "id": "6dkLTudD-NoQ"
      },
      "source": [
        "# T81-558: Applications of Deep Neural Networks\n",
        "**Module 12: Reinforcement Learning**\n",
        "* Instructor: [Jeff Heaton](https://sites.wustl.edu/jeffheaton/), McKelvey School of Engineering, [Washington University in St. Louis](https://engineering.wustl.edu/Programs/Pages/default.aspx)\n",
        "* For more information visit the [class website](https://sites.wustl.edu/jeffheaton/t81-558/)."
      ]
    },
    {
      "cell_type": "markdown",
      "metadata": {
        "id": "wN-T0x2j-NoR"
      },
      "source": [
        "# Module 12 Video Material\n",
        "\n",
        "* Part 12.1: Introduction to the OpenAI Gym [[Video]](https://www.youtube.com/watch?v=_KbUxgyisjM&list=PLjy4p-07OYzulelvJ5KVaT2pDlxivl_BN) [[Notebook]](https://github.com/jeffheaton/t81_558_deep_learning/blob/master/t81_558_class_12_01_ai_gym.ipynb)\n",
        "* **Part 12.2: Introduction to Q-Learning** [[Video]](https://www.youtube.com/watch?v=A3sYFcJY3lA&list=PLjy4p-07OYzulelvJ5KVaT2pDlxivl_BN) [[Notebook]](https://github.com/jeffheaton/t81_558_deep_learning/blob/master/t81_558_class_12_02_qlearningreinforcement.ipynb)\n",
        "* Part 12.3: Keras Q-Learning in the OpenAI Gym [[Video]](https://www.youtube.com/watch?v=qy1SJmsRhvM&list=PLjy4p-07OYzulelvJ5KVaT2pDlxivl_BN) [[Notebook]](https://github.com/jeffheaton/t81_558_deep_learning/blob/master/t81_558_class_12_03_keras_reinforce.ipynb)\n",
        "* Part 12.4: Atari Games with Keras Neural Networks [[Video]](https://www.youtube.com/watch?v=co0SwPWoZh0&list=PLjy4p-07OYzulelvJ5KVaT2pDlxivl_BN) [[Notebook]](https://github.com/jeffheaton/t81_558_deep_learning/blob/master/t81_558_class_12_04_atari.ipynb)\n",
        "* Part 12.5: Application of Reinforcement Learning [[Video]](https://www.youtube.com/watch?v=1jQPP3RfwMI&list=PLjy4p-07OYzulelvJ5KVaT2pDlxivl_BN) [[Notebook]](https://github.com/jeffheaton/t81_558_deep_learning/blob/master/t81_558_class_12_05_apply_rl.ipynb)\n"
      ]
    },
    {
      "cell_type": "markdown",
      "metadata": {
        "id": "MIOgB0oG-NoS"
      },
      "source": [
        "# Google CoLab Instructions\n",
        "\n",
        "The following code ensures that Google CoLab is running the correct version of TensorFlow."
      ]
    },
    {
      "cell_type": "code",
      "execution_count": null,
      "metadata": {
        "colab": {
          "base_uri": "https://localhost:8080/"
        },
        "id": "ERfMETL_-NoS",
        "outputId": "b2e5648b-f2ad-4a3a-d13a-763dfa548f3c"
      },
      "outputs": [
        {
          "name": "stdout",
          "output_type": "stream",
          "text": [
            "Note: using Google CoLab\n"
          ]
        }
      ],
      "source": [
        "try:\n",
        "    from google.colab import drive\n",
        "    %tensorflow_version 2.x\n",
        "    COLAB = True\n",
        "    print(\"Note: using Google CoLab\")\n",
        "except:\n",
        "    print(\"Note: not using Google CoLab\")\n",
        "    COLAB = False"
      ]
    },
    {
      "cell_type": "code",
      "execution_count": null,
      "metadata": {
        "colab": {
          "base_uri": "https://localhost:8080/"
        },
        "id": "IcTY1gkD-X5r",
        "outputId": "7beaf860-dbb0-4725-8e66-83d05109e103"
      },
      "outputs": [
        {
          "name": "stdout",
          "output_type": "stream",
          "text": [
            "Reading package lists... Done\n",
            "Building dependency tree       \n",
            "Reading state information... Done\n",
            "ffmpeg is already the newest version (7:3.4.8-0ubuntu0.2).\n",
            "Suggested packages:\n",
            "  mesa-utils\n",
            "The following NEW packages will be installed:\n",
            "  libxxf86dga1 x11-utils xvfb\n",
            "0 upgraded, 3 newly installed, 0 to remove and 39 not upgraded.\n",
            "Need to get 993 kB of archives.\n",
            "After this operation, 2,982 kB of additional disk space will be used.\n",
            "Get:1 http://archive.ubuntu.com/ubuntu bionic/main amd64 libxxf86dga1 amd64 2:1.1.4-1 [13.7 kB]\n",
            "Get:2 http://archive.ubuntu.com/ubuntu bionic/main amd64 x11-utils amd64 7.7+3build1 [196 kB]\n",
            "Get:3 http://archive.ubuntu.com/ubuntu bionic-updates/universe amd64 xvfb amd64 2:1.19.6-1ubuntu4.10 [784 kB]\n",
            "Fetched 993 kB in 1s (1,252 kB/s)\n",
            "debconf: unable to initialize frontend: Dialog\n",
            "debconf: (No usable dialog-like program is installed, so the dialog based frontend cannot be used. at /usr/share/perl5/Debconf/FrontEnd/Dialog.pm line 76, <> line 3.)\n",
            "debconf: falling back to frontend: Readline\n",
            "debconf: unable to initialize frontend: Readline\n",
            "debconf: (This frontend requires a controlling tty.)\n",
            "debconf: falling back to frontend: Teletype\n",
            "dpkg-preconfigure: unable to re-open stdin: \n",
            "Selecting previously unselected package libxxf86dga1:amd64.\n",
            "(Reading database ... 156210 files and directories currently installed.)\n",
            "Preparing to unpack .../libxxf86dga1_2%3a1.1.4-1_amd64.deb ...\n",
            "Unpacking libxxf86dga1:amd64 (2:1.1.4-1) ...\n",
            "Selecting previously unselected package x11-utils.\n",
            "Preparing to unpack .../x11-utils_7.7+3build1_amd64.deb ...\n",
            "Unpacking x11-utils (7.7+3build1) ...\n",
            "Selecting previously unselected package xvfb.\n",
            "Preparing to unpack .../xvfb_2%3a1.19.6-1ubuntu4.10_amd64.deb ...\n",
            "Unpacking xvfb (2:1.19.6-1ubuntu4.10) ...\n",
            "Setting up xvfb (2:1.19.6-1ubuntu4.10) ...\n",
            "Setting up libxxf86dga1:amd64 (2:1.1.4-1) ...\n",
            "Setting up x11-utils (7.7+3build1) ...\n",
            "Processing triggers for man-db (2.8.3-2ubuntu0.1) ...\n",
            "Processing triggers for libc-bin (2.27-3ubuntu1.3) ...\n",
            "/sbin/ldconfig.real: /usr/local/lib/python3.7/dist-packages/ideep4py/lib/libmkldnn.so.0 is not a symbolic link\n",
            "\n",
            "\u001b[K     |████████████████████████████████| 3.3 MB 5.1 MB/s \n",
            "\u001b[?25h  Building wheel for imageio (setup.py) ... \u001b[?25l\u001b[?25hdone\n",
            "\u001b[31mERROR: pip's dependency resolver does not currently take into account all the packages that are installed. This behaviour is the source of the following dependency conflicts.\n",
            "albumentations 0.1.12 requires imgaug<0.2.7,>=0.2.5, but you have imgaug 0.2.9 which is incompatible.\u001b[0m\n",
            "\u001b[K     |████████████████████████████████| 1.0 MB 5.2 MB/s \n",
            "\u001b[31mERROR: pip's dependency resolver does not currently take into account all the packages that are installed. This behaviour is the source of the following dependency conflicts.\n",
            "gym 0.17.3 requires pyglet<=1.5.0,>=1.4.0, but you have pyglet 1.3.2 which is incompatible.\u001b[0m\n",
            "\u001b[K     |████████████████████████████████| 1.3 MB 5.0 MB/s \n",
            "\u001b[K     |████████████████████████████████| 1.0 MB 29.8 MB/s \n",
            "\u001b[K     |████████████████████████████████| 21.8 MB 1.2 MB/s \n",
            "\u001b[?25h"
          ]
        }
      ],
      "source": [
        "# HIDE OUTPUT\n",
        "if COLAB:\n",
        "  !sudo apt-get install -y xvfb ffmpeg x11-utils\n",
        "  !pip install -q gym\n",
        "  !pip install -q 'imageio==2.4.0'\n",
        "  !pip install -q PILLOW\n",
        "  !pip install -q 'pyglet==1.3.2'\n",
        "  !pip install -q pyvirtualdisplay\n",
        "  !pip install -q tf-agents\n",
        "  !pip install -q pygame"
      ]
    },
    {
      "cell_type": "markdown",
      "metadata": {
        "id": "zA-E4NR2-NoY"
      },
      "source": [
        "# Part 12.2: Introduction to Q-Learning\n",
        "\n",
        "Q-Learning is a foundational technology upon which deep reinforcement learning is based. Before we explore deep reinforcement learning, it is essential to understand Q-Learning. Several components make up any Q-Learning system.\n",
        "\n",
        "* **Agent** - The agent is an entity that exists in an environment that takes actions to affect the state of the environment, to receive rewards.\n",
        "* **Environment** - The environment is the universe that the agent exists in. The environment is always in a specific state that is changed by the agent's actions.\n",
        "* **Actions** - Steps that the agent can perform to alter the environment \n",
        "* **Step** - A step occurs when the agent performs an action and potentially changes the environment state.\n",
        "* **Episode** - A chain of steps that ultimately culminates in the environment entering a terminal state.\n",
        "* **Epoch** - A training iteration of the agent that contains some number of episodes.\n",
        "* **Terminal State** -  A state in which further actions do not make sense. A terminal state occurs when the agent has one, lost, or the environment exceeds the maximum number of steps in many environments.\n",
        "\n",
        "Q-Learning works by building a table that suggests an action for every possible state. This approach runs into several problems. First, the environment is usually composed of several continuous numbers, resulting in an infinite number of states. Q-Learning handles continuous states by binning these numeric values into ranges. \n",
        "\n",
        "Out of the box, Q-Learning does not deal with continuous inputs, such as a car's accelerator that can range from released to fully engaged. Additionally, Q-Learning primarily deals with discrete actions, such as pressing a joystick up or down. Researchers have developed clever tricks to allow Q-Learning to accommodate continuous actions.\n",
        "\n",
        "Deep neural networks can help solve the problems of continuous environments and action spaces. In the next section, we will learn more about deep reinforcement learning. For now, we will apply regular Q-Learning to the Mountain Car problem from OpenAI Gym.\n",
        "\n",
        "## Introducing the Mountain Car\n",
        "\n",
        "This section will demonstrate how Q-Learning can create a solution to the mountain car gym environment. The Mountain car is an environment where a car must climb a mountain. Because gravity is stronger than the car's engine, it cannot merely accelerate up the steep slope even with full throttle. The vehicle is situated in a valley and must learn to utilize potential energy by driving up the opposite hill before the car can make it to the goal at the top of the rightmost hill.\n",
        "\n",
        "First, it might be helpful to visualize the mountain car environment. The following code shows this environment. This code makes use of TF-Agents to perform this render. Usually, we use TF-Agents for the type of deep reinforcement learning that we will see in the next module. However, TF-Agents is just used to render the mountain care environment for now."
      ]
    },
    {
      "cell_type": "code",
      "execution_count": null,
      "metadata": {
        "colab": {
          "base_uri": "https://localhost:8080/",
          "height": 417
        },
        "id": "ngaU1pVi-mjb",
        "outputId": "9504986f-d9be-46e0-a0a6-e90773e79372"
      },
      "outputs": [
        {
          "data": {
            "image/png": "[encoded data removed]",
            "text/plain": [
              "<PIL.Image.Image image mode=RGB size=600x400 at 0x7F64E5650A90>"
            ]
          },
          "execution_count": 3,
          "metadata": {},
          "output_type": "execute_result"
        }
      ],
      "source": [
        "import tf_agents\n",
        "from tf_agents.environments import suite_gym\n",
        "import PIL.Image\n",
        "import pyvirtualdisplay\n",
        "\n",
        "display = pyvirtualdisplay.Display(visible=0, size=(1400, 900)).start()\n",
        "\n",
        "env_name = 'MountainCar-v0'\n",
        "env = suite_gym.load(env_name)\n",
        "env.reset()\n",
        "PIL.Image.fromarray(env.render())"
      ]
    },
    {
      "cell_type": "markdown",
      "metadata": {
        "id": "cQBcs3yAMo_P"
      },
      "source": [
        "The mountain car environment provides the following discrete actions:\n",
        "\n",
        "* 0 - Apply left force\n",
        "* 1 - Apply no force\n",
        "* 2 - Apply right force\n",
        "\n",
        "The mountain car environment is made up of the following continuous values:\n",
        "\n",
        "* state[0] - Position \n",
        "* state[1] - Velocity\n",
        "\n",
        "The cart is not strong enough. It will need to use potential energy from the mountain behind it. The following code shows an agent that applies full throttle to climb the hill."
      ]
    },
    {
      "cell_type": "code",
      "execution_count": null,
      "metadata": {
        "id": "QMLS0b-tbc_j"
      },
      "outputs": [],
      "source": [
        "import gym\n",
        "from gym.wrappers import Monitor\n",
        "import glob\n",
        "import io\n",
        "import base64\n",
        "from IPython.display import HTML\n",
        "from pyvirtualdisplay import Display\n",
        "from IPython import display as ipythondisplay\n",
        "\n",
        "display = Display(visible=0, size=(1400, 900))\n",
        "display.start()\n",
        "\n",
        "\n",
        "def show_video():\n",
        "    mp4list = glob.glob('video/*.mp4')\n",
        "    if len(mp4list) > 0:\n",
        "        mp4 = mp4list[0]\n",
        "        video = io.open(mp4, 'r+b').read()\n",
        "        encoded = base64.b64encode(video)\n",
        "        ipythondisplay.display(HTML(data='''<video alt=\"test\" autoplay \n",
        "                loop controls style=\"height: 400px;\">\n",
        "                <source src=\"data:video/mp4;base64,{0}\" \n",
        "                type=\"video/mp4\" />\n",
        "             </video>'''.format(encoded.decode('ascii'))))\n",
        "    else:\n",
        "        print(\"Could not find video\")\n",
        "\n",
        "\n",
        "def wrap_env(env):\n",
        "    env = Monitor(env, './video', force=True)\n",
        "    return env\n"
      ]
    },
    {
      "cell_type": "markdown",
      "metadata": {
        "id": "iDkmeVenJst3"
      },
      "source": [
        "We are now ready to train the agent."
      ]
    },
    {
      "cell_type": "code",
      "execution_count": null,
      "metadata": {
        "colab": {
          "base_uri": "https://localhost:8080/"
        },
        "id": "iCRJdn0G-NoZ",
        "outputId": "75ca7539-5b45-4dd9-c689-0be035077bc8"
      },
      "outputs": [
        {
          "name": "stdout",
          "output_type": "stream",
          "text": [
            "Step 1: State=[-0.50905189  0.00089766], Reward=-1.0\n",
            "Step 2: State=[-0.50726329  0.00178859], Reward=-1.0\n",
            "Step 3: State=[-0.50459717  0.00266613], Reward=-1.0\n",
            "Step 4: State=[-0.50107348  0.00352369], Reward=-1.0\n",
            "Step 5: State=[-0.4967186   0.00435488], Reward=-1.0\n",
            "Step 6: State=[-0.4915651  0.0051535], Reward=-1.0\n",
            "Step 7: State=[-0.48565149  0.00591361], Reward=-1.0\n",
            "Step 8: State=[-0.47902187  0.00662962], Reward=-1.0\n",
            "Step 9: State=[-0.47172557  0.00729629], Reward=-1.0\n",
            "Step 10: State=[-0.46381676  0.00790881], Reward=-1.0\n",
            "Step 11: State=[-0.45535392  0.00846285], Reward=-1.0\n",
            "Step 12: State=[-0.44639934  0.00895458], Reward=-1.0\n",
            "Step 13: State=[-0.4370186   0.00938074], Reward=-1.0\n",
            "Step 14: State=[-0.42727993  0.00973867], Reward=-1.0\n",
            "Step 15: State=[-0.41725364  0.01002629], Reward=-1.0\n",
            "Step 16: State=[-0.40701147  0.01024216], Reward=-1.0\n",
            "Step 17: State=[-0.396626    0.01038548], Reward=-1.0\n",
            "Step 18: State=[-0.38616995  0.01045604], Reward=-1.0\n",
            "Step 19: State=[-0.37571567  0.01045428], Reward=-1.0\n",
            "Step 20: State=[-0.36533449  0.01038118], Reward=-1.0\n",
            "Step 21: State=[-0.35509619  0.0102383 ], Reward=-1.0\n",
            "Step 22: State=[-0.34506852  0.01002767], Reward=-1.0\n",
            "Step 23: State=[-0.33531672  0.0097518 ], Reward=-1.0\n",
            "Step 24: State=[-0.32590314  0.00941358], Reward=-1.0\n",
            "Step 25: State=[-0.31688687  0.00901627], Reward=-1.0\n",
            "Step 26: State=[-0.30832346  0.00856341], Reward=-1.0\n",
            "Step 27: State=[-0.30026469  0.00805876], Reward=-1.0\n",
            "Step 28: State=[-0.2927584   0.00750629], Reward=-1.0\n",
            "Step 29: State=[-0.2858483  0.0069101], Reward=-1.0\n",
            "Step 30: State=[-0.27957395  0.00627436], Reward=-1.0\n",
            "Step 31: State=[-0.27397063  0.00560332], Reward=-1.0\n",
            "Step 32: State=[-0.26906936  0.00490127], Reward=-1.0\n",
            "Step 33: State=[-0.26489689  0.00417247], Reward=-1.0\n",
            "Step 34: State=[-0.26147568  0.00342121], Reward=-1.0\n",
            "Step 35: State=[-0.25882396  0.00265172], Reward=-1.0\n",
            "Step 36: State=[-0.25695571  0.00186825], Reward=-1.0\n",
            "Step 37: State=[-0.25588073  0.00107498], Reward=-1.0\n",
            "Step 38: State=[-0.25560462  0.00027611], Reward=-1.0\n",
            "Step 39: State=[-0.25612883 -0.00052421], Reward=-1.0\n",
            "Step 40: State=[-0.25745062 -0.00132179], Reward=-1.0\n",
            "Step 41: State=[-0.25956309 -0.00211247], Reward=-1.0\n",
            "Step 42: State=[-0.26245514 -0.00289205], Reward=-1.0\n",
            "Step 43: State=[-0.26611148 -0.00365634], Reward=-1.0\n",
            "Step 44: State=[-0.27051257 -0.00440109], Reward=-1.0\n",
            "Step 45: State=[-0.27563463 -0.00512205], Reward=-1.0\n",
            "Step 46: State=[-0.28144957 -0.00581494], Reward=-1.0\n",
            "Step 47: State=[-0.28792506 -0.00647549], Reward=-1.0\n",
            "Step 48: State=[-0.29502448 -0.00709942], Reward=-1.0\n",
            "Step 49: State=[-0.30270698 -0.0076825 ], Reward=-1.0\n",
            "Step 50: State=[-0.31092755 -0.00822057], Reward=-1.0\n",
            "Step 51: State=[-0.31963713 -0.00870957], Reward=-1.0\n",
            "Step 52: State=[-0.32878273 -0.0091456 ], Reward=-1.0\n",
            "Step 53: State=[-0.33830768 -0.00952495], Reward=-1.0\n",
            "Step 54: State=[-0.34815185 -0.00984416], Reward=-1.0\n",
            "Step 55: State=[-0.35825194 -0.0101001 ], Reward=-1.0\n",
            "Step 56: State=[-0.36854191 -0.01028996], Reward=-1.0\n",
            "Step 57: State=[-0.37895331 -0.0104114 ], Reward=-1.0\n",
            "Step 58: State=[-0.38941582 -0.01046252], Reward=-1.0\n",
            "Step 59: State=[-0.39985775 -0.01044193], Reward=-1.0\n",
            "Step 60: State=[-0.41020657 -0.01034882], Reward=-1.0\n",
            "Step 61: State=[-0.42038952 -0.01018295], Reward=-1.0\n",
            "Step 62: State=[-0.43033423 -0.00994471], Reward=-1.0\n",
            "Step 63: State=[-0.43996933 -0.0096351 ], Reward=-1.0\n",
            "Step 64: State=[-0.4492251  -0.00925577], Reward=-1.0\n",
            "Step 65: State=[-0.45803405 -0.00880895], Reward=-1.0\n",
            "Step 66: State=[-0.46633157 -0.00829752], Reward=-1.0\n",
            "Step 67: State=[-0.47405649 -0.00772492], Reward=-1.0\n",
            "Step 68: State=[-0.48115161 -0.00709512], Reward=-1.0\n",
            "Step 69: State=[-0.48756422 -0.00641261], Reward=-1.0\n",
            "Step 70: State=[-0.49324656 -0.00568234], Reward=-1.0\n",
            "Step 71: State=[-0.49815623 -0.00490967], Reward=-1.0\n",
            "Step 72: State=[-0.50225654 -0.00410031], Reward=-1.0\n",
            "Step 73: State=[-0.5055168  -0.00326026], Reward=-1.0\n",
            "Step 74: State=[-0.50791261 -0.00239581], Reward=-1.0\n",
            "Step 75: State=[-0.50942603 -0.00151341], Reward=-1.0\n",
            "Step 76: State=[-0.5100457  -0.00061968], Reward=-1.0\n",
            "Step 77: State=[-5.09767002e-01  2.78702550e-04], Reward=-1.0\n",
            "Step 78: State=[-0.50859201  0.00117499], Reward=-1.0\n",
            "Step 79: State=[-0.50652953  0.00206248], Reward=-1.0\n",
            "Step 80: State=[-0.50359501  0.00293452], Reward=-1.0\n",
            "Step 81: State=[-0.49981043  0.00378458], Reward=-1.0\n",
            "Step 82: State=[-0.49520411  0.00460632], Reward=-1.0\n",
            "Step 83: State=[-0.48981049  0.00539362], Reward=-1.0\n",
            "Step 84: State=[-0.48366986  0.00614064], Reward=-1.0\n",
            "Step 85: State=[-0.47682797  0.00684189], Reward=-1.0\n",
            "Step 86: State=[-0.46933572  0.00749226], Reward=-1.0\n",
            "Step 87: State=[-0.46124864  0.00808708], Reward=-1.0\n",
            "Step 88: State=[-0.45262646  0.00862217], Reward=-1.0\n",
            "Step 89: State=[-0.44353257  0.00909389], Reward=-1.0\n",
            "Step 90: State=[-0.43403342  0.00949915], Reward=-1.0\n",
            "Step 91: State=[-0.42419795  0.00983547], Reward=-1.0\n",
            "Step 92: State=[-0.41409699  0.01010096], Reward=-1.0\n",
            "Step 93: State=[-0.40380259  0.01029439], Reward=-1.0\n",
            "Step 94: State=[-0.39338746  0.01041514], Reward=-1.0\n",
            "Step 95: State=[-0.38292426  0.0104632 ], Reward=-1.0\n",
            "Step 96: State=[-0.37248508  0.01043918], Reward=-1.0\n",
            "Step 97: State=[-0.36214083  0.01034425], Reward=-1.0\n",
            "Step 98: State=[-0.35196071  0.01018012], Reward=-1.0\n",
            "Step 99: State=[-0.34201175  0.00994897], Reward=-1.0\n",
            "Step 100: State=[-0.33235831  0.00965343], Reward=-1.0\n",
            "Step 101: State=[-0.32306179  0.00929653], Reward=-1.0\n",
            "Step 102: State=[-0.31418019  0.0088816 ], Reward=-1.0\n",
            "Step 103: State=[-0.30576792  0.00841226], Reward=-1.0\n",
            "Step 104: State=[-0.29787557  0.00789236], Reward=-1.0\n",
            "Step 105: State=[-0.29054969  0.00732588], Reward=-1.0\n",
            "Step 106: State=[-0.28383272  0.00671697], Reward=-1.0\n",
            "Step 107: State=[-0.27776289  0.00606983], Reward=-1.0\n",
            "Step 108: State=[-0.27237418  0.00538871], Reward=-1.0\n",
            "Step 109: State=[-0.26769627  0.00467791], Reward=-1.0\n",
            "Step 110: State=[-0.26375458  0.00394169], Reward=-1.0\n",
            "Step 111: State=[-0.26057026  0.00318432], Reward=-1.0\n",
            "Step 112: State=[-0.25816021  0.00241005], Reward=-1.0\n",
            "Step 113: State=[-0.25653713  0.00162309], Reward=-1.0\n",
            "Step 114: State=[-0.25570949  0.00082763], Reward=-1.0\n",
            "Step 115: State=[-2.55681628e-01  2.78670044e-05], Reward=-1.0\n",
            "Step 116: State=[-0.25645367 -0.00077204], Reward=-1.0\n",
            "Step 117: State=[-0.25802161 -0.00156793], Reward=-1.0\n",
            "Step 118: State=[-0.26037723 -0.00235562], Reward=-1.0\n",
            "Step 119: State=[-0.26350814 -0.00313091], Reward=-1.0\n",
            "Step 120: State=[-0.26739774 -0.0038896 ], Reward=-1.0\n",
            "Step 121: State=[-0.27202516 -0.00462742], Reward=-1.0\n",
            "Step 122: State=[-0.2773653  -0.00534014], Reward=-1.0\n",
            "Step 123: State=[-0.28338876 -0.00602346], Reward=-1.0\n",
            "Step 124: State=[-0.29006186 -0.0066731 ], Reward=-1.0\n",
            "Step 125: State=[-0.29734667 -0.00728481], Reward=-1.0\n",
            "Step 126: State=[-0.30520105 -0.00785438], Reward=-1.0\n",
            "Step 127: State=[-0.31357871 -0.00837766], Reward=-1.0\n",
            "Step 128: State=[-0.32242935 -0.00885064], Reward=-1.0\n",
            "Step 129: State=[-0.33169883 -0.00926948], Reward=-1.0\n",
            "Step 130: State=[-0.34132937 -0.00963053], Reward=-1.0\n",
            "Step 131: State=[-0.35125981 -0.00993044], Reward=-1.0\n",
            "Step 132: State=[-0.36142598 -0.01016617], Reward=-1.0\n",
            "Step 133: State=[-0.37176102 -0.01033504], Reward=-1.0\n",
            "Step 134: State=[-0.38219587 -0.01043485], Reward=-1.0\n",
            "Step 135: State=[-0.39265972 -0.01046385], Reward=-1.0\n",
            "Step 136: State=[-0.40308055 -0.01042083], Reward=-1.0\n",
            "Step 137: State=[-0.41338571 -0.01030515], Reward=-1.0\n",
            "Step 138: State=[-0.42350248 -0.01011677], Reward=-1.0\n",
            "Step 139: State=[-0.43335875 -0.00985626], Reward=-1.0\n",
            "Step 140: State=[-0.44288357 -0.00952483], Reward=-1.0\n",
            "Step 141: State=[-0.45200787 -0.00912429], Reward=-1.0\n",
            "Step 142: State=[-0.46066497 -0.00865711], Reward=-1.0\n",
            "Step 143: State=[-0.46879128 -0.00812631], Reward=-1.0\n",
            "Step 144: State=[-0.4763268  -0.00753552], Reward=-1.0\n",
            "Step 145: State=[-0.48321567 -0.00688887], Reward=-1.0\n",
            "Step 146: State=[-0.48940667 -0.006191  ], Reward=-1.0\n",
            "Step 147: State=[-0.49485367 -0.00544699], Reward=-1.0\n",
            "Step 148: State=[-0.49951598 -0.00466232], Reward=-1.0\n",
            "Step 149: State=[-0.50335876 -0.00384278], Reward=-1.0\n",
            "Step 150: State=[-0.50635325 -0.00299449], Reward=-1.0\n",
            "Step 151: State=[-0.50847702 -0.00212377], Reward=-1.0\n",
            "Step 152: State=[-0.50971416 -0.00123714], Reward=-1.0\n",
            "Step 153: State=[-5.10055410e-01 -3.41248589e-04], Reward=-1.0\n",
            "Step 154: State=[-0.50949821  0.0005572 ], Reward=-1.0\n",
            "Step 155: State=[-0.50804672  0.00145148], Reward=-1.0\n",
            "Step 156: State=[-0.50571184  0.00233488], Reward=-1.0\n",
            "Step 157: State=[-0.50251105  0.0032008 ], Reward=-1.0\n",
            "Step 158: State=[-0.4984683   0.00404274], Reward=-1.0\n",
            "Step 159: State=[-0.49361386  0.00485444], Reward=-1.0\n",
            "Step 160: State=[-0.487984    0.00562986], Reward=-1.0\n",
            "Step 161: State=[-0.48162074  0.00636326], Reward=-1.0\n",
            "Step 162: State=[-0.47457149  0.00704925], Reward=-1.0\n",
            "Step 163: State=[-0.46688862  0.00768287], Reward=-1.0\n",
            "Step 164: State=[-0.45862902  0.0082596 ], Reward=-1.0\n",
            "Step 165: State=[-0.44985362  0.0087754 ], Reward=-1.0\n",
            "Step 166: State=[-0.44062681  0.00922681], Reward=-1.0\n",
            "Step 167: State=[-0.43101588  0.00961093], Reward=-1.0\n",
            "Step 168: State=[-0.42109043  0.00992545], Reward=-1.0\n",
            "Step 169: State=[-0.41092173  0.0101687 ], Reward=-1.0\n",
            "Step 170: State=[-0.4005821   0.01033962], Reward=-1.0\n",
            "Step 171: State=[-0.3901443  0.0104378], Reward=-1.0\n",
            "Step 172: State=[-0.37968088  0.01046342], Reward=-1.0\n",
            "Step 173: State=[-0.36926363  0.01041726], Reward=-1.0\n",
            "Step 174: State=[-0.35896297  0.01030066], Reward=-1.0\n",
            "Step 175: State=[-0.34884748  0.01011548], Reward=-1.0\n",
            "Step 176: State=[-0.33898342  0.00986407], Reward=-1.0\n",
            "Step 177: State=[-0.32943426  0.00954916], Reward=-1.0\n",
            "Step 178: State=[-0.32026037  0.00917389], Reward=-1.0\n",
            "Step 179: State=[-0.31151868  0.00874169], Reward=-1.0\n",
            "Step 180: State=[-0.30326242  0.00825625], Reward=-1.0\n",
            "Step 181: State=[-0.29554096  0.00772147], Reward=-1.0\n",
            "Step 182: State=[-0.28839957  0.00714139], Reward=-1.0\n",
            "Step 183: State=[-0.28187941  0.00652016], Reward=-1.0\n",
            "Step 184: State=[-0.27601738  0.00586203], Reward=-1.0\n",
            "Step 185: State=[-0.27084613  0.00517125], Reward=-1.0\n",
            "Step 186: State=[-0.26639402  0.00445211], Reward=-1.0\n",
            "Step 187: State=[-0.26268515  0.00370887], Reward=-1.0\n",
            "Step 188: State=[-0.25973934  0.00294581], Reward=-1.0\n",
            "Step 189: State=[-0.25757219  0.00216715], Reward=-1.0\n",
            "Step 190: State=[-0.25619508  0.00137711], Reward=-1.0\n",
            "Step 191: State=[-0.25561521  0.00057987], Reward=-1.0\n",
            "Step 192: State=[-2.55835595e-01 -2.20385847e-04], Reward=-1.0\n",
            "Step 193: State=[-0.25685509 -0.0010195 ], Reward=-1.0\n",
            "Step 194: State=[-0.25866838 -0.00181329], Reward=-1.0\n",
            "Step 195: State=[-0.26126596 -0.00259758], Reward=-1.0\n",
            "Step 196: State=[-0.26463414 -0.00336818], Reward=-1.0\n",
            "Step 197: State=[-0.26875498 -0.00412085], Reward=-1.0\n",
            "Step 198: State=[-0.27360632 -0.00485134], Reward=-1.0\n",
            "Step 199: State=[-0.27916172 -0.0055554 ], Reward=-1.0\n",
            "Step 200: State=[-0.28539045 -0.00622873], Reward=-1.0\n"
          ]
        }
      ],
      "source": [
        "import gym\n",
        "\n",
        "if COLAB:\n",
        "    env = wrap_env(gym.make(\"MountainCar-v0\"))\n",
        "else:\n",
        "    env = gym.make(\"MountainCar-v0\")\n",
        "\n",
        "env.reset()\n",
        "done = False\n",
        "\n",
        "i = 0\n",
        "while not done:\n",
        "    i += 1\n",
        "    state, reward, done, _ = env.step(2)\n",
        "    env.render()\n",
        "    print(f\"Step {i}: State={state}, Reward={reward}\")\n",
        "\n",
        "env.close()\n"
      ]
    },
    {
      "cell_type": "markdown",
      "metadata": {
        "id": "mAiuC246Jw2B"
      },
      "source": [
        "It helps to visualize the car. The following code shows a video of the car when run from a notebook."
      ]
    },
    {
      "cell_type": "code",
      "execution_count": null,
      "metadata": {
        "colab": {
          "base_uri": "https://localhost:8080/",
          "height": 421
        },
        "id": "lrJxIxzpdI_s",
        "outputId": "ad57e219-b362-44e9-f687-7d71a439131d"
      },
      "outputs": [
        {
          "data": {
            "text/html": [
              "<video alt=\"test\" autoplay \n",
              "                loop controls style=\"height: 400px;\">\n",
              "                <source src=\"data:video/mp4;base64,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\" type=\"video/mp4\" />\n",
              "             </video>"
            ],
            "text/plain": [
              "<IPython.core.display.HTML object>"
            ]
          },
          "metadata": {},
          "output_type": "display_data"
        }
      ],
      "source": [
        "# HIDE OUTPUT\n",
        "show_video()\n"
      ]
    },
    {
      "cell_type": "markdown",
      "metadata": {
        "id": "IVcdwI-0-Nod"
      },
      "source": [
        "## Programmed Car\n",
        "\n",
        "Now we will look at a car that I hand-programmed. This car is straightforward; however, it solves the problem. The programmed car always applies force in one direction or another. It does not break. Whatever direction the vehicle is currently rolling, the agent uses power in that direction. Therefore, the car begins to climb a hill, is overpowered, and turns backward. However, once it starts to roll backward, force is immediately applied in this new direction.\n",
        "\n",
        "The following code implements this preprogrammed car."
      ]
    },
    {
      "cell_type": "code",
      "execution_count": null,
      "metadata": {
        "colab": {
          "base_uri": "https://localhost:8080/"
        },
        "id": "AMzYrqRy-Noe",
        "outputId": "d5e25354-f4df-4366-febb-bb307237ae22"
      },
      "outputs": [
        {
          "name": "stdout",
          "output_type": "stream",
          "text": [
            "Step 1: State=[-5.84581471e-01 -5.49227966e-04], Reward=-1.0\n",
            "Step 2: State=[-0.58567588 -0.0010944 ], Reward=-1.0\n",
            "Step 3: State=[-0.58730739 -0.00163151], Reward=-1.0\n",
            "Step 4: State=[-0.58946399 -0.0021566 ], Reward=-1.0\n",
            "Step 5: State=[-0.59212981 -0.00266582], Reward=-1.0\n",
            "Step 6: State=[-0.59528526 -0.00315545], Reward=-1.0\n",
            "Step 7: State=[-0.5989072  -0.00362194], Reward=-1.0\n",
            "Step 8: State=[-0.60296912 -0.00406192], Reward=-1.0\n",
            "Step 9: State=[-0.60744137 -0.00447225], Reward=-1.0\n",
            "Step 10: State=[-0.61229141 -0.00485004], Reward=-1.0\n",
            "Step 11: State=[-0.61748407 -0.00519267], Reward=-1.0\n",
            "Step 12: State=[-0.62298187 -0.0054978 ], Reward=-1.0\n",
            "Step 13: State=[-0.62874529 -0.00576342], Reward=-1.0\n",
            "Step 14: State=[-0.63473313 -0.00598783], Reward=-1.0\n",
            "Step 15: State=[-0.64090281 -0.00616968], Reward=-1.0\n",
            "Step 16: State=[-0.64721076 -0.00630795], Reward=-1.0\n",
            "Step 17: State=[-0.65361272 -0.00640196], Reward=-1.0\n",
            "Step 18: State=[-0.66006412 -0.00645139], Reward=-1.0\n",
            "Step 19: State=[-0.66652037 -0.00645626], Reward=-1.0\n",
            "Step 20: State=[-0.67293726 -0.00641689], Reward=-1.0\n",
            "Step 21: State=[-0.6792712  -0.00633394], Reward=-1.0\n",
            "Step 22: State=[-0.68547958 -0.00620838], Reward=-1.0\n",
            "Step 23: State=[-0.69152102 -0.00604144], Reward=-1.0\n",
            "Step 24: State=[-0.69735564 -0.00583462], Reward=-1.0\n",
            "Step 25: State=[-0.7029453  -0.00558966], Reward=-1.0\n",
            "Step 26: State=[-0.70825383 -0.00530853], Reward=-1.0\n",
            "Step 27: State=[-0.7132472  -0.00499337], Reward=-1.0\n",
            "Step 28: State=[-0.71789372 -0.00464651], Reward=-1.0\n",
            "Step 29: State=[-0.72216414 -0.00427042], Reward=-1.0\n",
            "Step 30: State=[-0.72603185 -0.00386771], Reward=-1.0\n",
            "Step 31: State=[-0.72947294 -0.00344108], Reward=-1.0\n",
            "Step 32: State=[-0.73246627 -0.00299334], Reward=-1.0\n",
            "Step 33: State=[-0.73499362 -0.00252735], Reward=-1.0\n",
            "Step 34: State=[-0.73703966 -0.00204604], Reward=-1.0\n",
            "Step 35: State=[-0.73859207 -0.00155241], Reward=-1.0\n",
            "Step 36: State=[-0.73964152 -0.00104945], Reward=-1.0\n",
            "Step 37: State=[-7.40181738e-01 -5.40214614e-04], Reward=-1.0\n",
            "Step 38: State=[-7.40209487e-01 -2.77484127e-05], Reward=-1.0\n",
            "Step 39: State=[-7.39724603e-01  4.84883491e-04], Reward=-1.0\n",
            "Step 40: State=[-0.73672998  0.00299462], Reward=-1.0\n",
            "Step 41: State=[-0.73124359  0.00548639], Reward=-1.0\n",
            "Step 42: State=[-0.72329865  0.00794494], Reward=-1.0\n",
            "Step 43: State=[-0.71294396  0.01035469], Reward=-1.0\n",
            "Step 44: State=[-0.70024433  0.01269963], Reward=-1.0\n",
            "Step 45: State=[-0.685281    0.01496333], Reward=-1.0\n",
            "Step 46: State=[-0.66815204  0.01712895], Reward=-1.0\n",
            "Step 47: State=[-0.6489726   0.01917944], Reward=-1.0\n",
            "Step 48: State=[-0.62787487  0.02109773], Reward=-1.0\n",
            "Step 49: State=[-0.60500776  0.02286711], Reward=-1.0\n",
            "Step 50: State=[-0.58053614  0.02447162], Reward=-1.0\n",
            "Step 51: State=[-0.55463956  0.02589658], Reward=-1.0\n",
            "Step 52: State=[-0.52751051  0.02712905], Reward=-1.0\n",
            "Step 53: State=[-0.49935212  0.02815839], Reward=-1.0\n",
            "Step 54: State=[-0.47037542  0.0289767 ], Reward=-1.0\n",
            "Step 55: State=[-0.44079621  0.02957922], Reward=-1.0\n",
            "Step 56: State=[-0.41083164  0.02996456], Reward=-1.0\n",
            "Step 57: State=[-0.38069679  0.03013485], Reward=-1.0\n",
            "Step 58: State=[-0.35060117  0.03009562], Reward=-1.0\n",
            "Step 59: State=[-0.32074557  0.0298556 ], Reward=-1.0\n",
            "Step 60: State=[-0.29131919  0.02942639], Reward=-1.0\n",
            "Step 61: State=[-0.26249729  0.02882189], Reward=-1.0\n",
            "Step 62: State=[-0.23443946  0.02805783], Reward=-1.0\n",
            "Step 63: State=[-0.20728838  0.02715108], Reward=-1.0\n",
            "Step 64: State=[-0.18116928  0.0261191 ], Reward=-1.0\n",
            "Step 65: State=[-0.15618993  0.02497935], Reward=-1.0\n",
            "Step 66: State=[-0.13244112  0.02374881], Reward=-1.0\n",
            "Step 67: State=[-0.10999756  0.02244356], Reward=-1.0\n",
            "Step 68: State=[-0.08891911  0.02107845], Reward=-1.0\n",
            "Step 69: State=[-0.06925224  0.01966687], Reward=-1.0\n",
            "Step 70: State=[-0.05103161  0.01822063], Reward=-1.0\n",
            "Step 71: State=[-0.03428174  0.01674987], Reward=-1.0\n",
            "Step 72: State=[-0.01901866  0.01526308], Reward=-1.0\n",
            "Step 73: State=[-0.00525151  0.01376715], Reward=-1.0\n",
            "Step 74: State=[0.00701595 0.01226746], Reward=-1.0\n",
            "Step 75: State=[0.01778397 0.01076801], Reward=-1.0\n",
            "Step 76: State=[0.02705554 0.00927157], Reward=-1.0\n",
            "Step 77: State=[0.03483534 0.0077798 ], Reward=-1.0\n",
            "Step 78: State=[0.04112878 0.00629344], Reward=-1.0\n",
            "Step 79: State=[0.04594123 0.00481245], Reward=-1.0\n",
            "Step 80: State=[0.04927738 0.00333615], Reward=-1.0\n",
            "Step 81: State=[0.05114081 0.00186342], Reward=-1.0\n",
            "Step 82: State=[0.05153359 0.00039279], Reward=-1.0\n",
            "Step 83: State=[ 0.0504562 -0.0010774], Reward=-1.0\n",
            "Step 84: State=[ 0.04590739 -0.00454881], Reward=-1.0\n",
            "Step 85: State=[ 0.03788225 -0.00802514], Reward=-1.0\n",
            "Step 86: State=[ 0.02637324 -0.01150901], Reward=-1.0\n",
            "Step 87: State=[ 0.01137205 -0.01500119], Reward=-1.0\n",
            "Step 88: State=[-0.00712768 -0.01849973], Reward=-1.0\n",
            "Step 89: State=[-0.02912685 -0.02199916], Reward=-1.0\n",
            "Step 90: State=[-0.05461647 -0.02548963], Reward=-1.0\n",
            "Step 91: State=[-0.08357261 -0.02895614], Reward=-1.0\n",
            "Step 92: State=[-0.11595059 -0.03237798], Reward=-1.0\n",
            "Step 93: State=[-0.15167884 -0.03572825], Reward=-1.0\n",
            "Step 94: State=[-0.1906527  -0.03897386], Reward=-1.0\n",
            "Step 95: State=[-0.23272866 -0.04207597], Reward=-1.0\n",
            "Step 96: State=[-0.27771965 -0.04499099], Reward=-1.0\n",
            "Step 97: State=[-0.32539199 -0.04767234], Reward=-1.0\n",
            "Step 98: State=[-0.37546482 -0.05007283], Reward=-1.0\n",
            "Step 99: State=[-0.42761244 -0.05214762], Reward=-1.0\n",
            "Step 100: State=[-0.48147006 -0.05385761], Reward=-1.0\n",
            "Step 101: State=[-0.5366428  -0.05517274], Reward=-1.0\n",
            "Step 102: State=[-0.59271773 -0.05607493], Reward=-1.0\n",
            "Step 103: State=[-0.64927797 -0.05656025], Reward=-1.0\n",
            "Step 104: State=[-0.7059178  -0.05663983], Reward=-1.0\n",
            "Step 105: State=[-0.7622574 -0.0563396], Reward=-1.0\n",
            "Step 106: State=[-0.81795612 -0.05569872], Reward=-1.0\n",
            "Step 107: State=[-0.8727231  -0.05476698], Reward=-1.0\n",
            "Step 108: State=[-0.92632481 -0.0536017 ], Reward=-1.0\n",
            "Step 109: State=[-0.97858908 -0.05226427], Reward=-1.0\n",
            "Step 110: State=[-1.02940612 -0.05081704], Reward=-1.0\n",
            "Step 111: State=[-1.07872672 -0.0493206 ], Reward=-1.0\n",
            "Step 112: State=[-1.1265585  -0.04783178], Reward=-1.0\n",
            "Step 113: State=[-1.1729608 -0.0464023], Reward=-1.0\n",
            "Step 114: State=[-1.2  0. ], Reward=-1.0\n",
            "Step 115: State=[-1.1987581  0.0012419], Reward=-1.0\n",
            "Step 116: State=[-1.19427021  0.0044879 ], Reward=-1.0\n",
            "Step 117: State=[-1.18652173  0.00774848], Reward=-1.0\n",
            "Step 118: State=[-1.17548846  0.01103326], Reward=-1.0\n",
            "Step 119: State=[-1.16113808  0.01435038], Reward=-1.0\n",
            "Step 120: State=[-1.14343234  0.01770574], Reward=-1.0\n",
            "Step 121: State=[-1.12233007  0.02110228], Reward=-1.0\n",
            "Step 122: State=[-1.09779103  0.02453904], Reward=-1.0\n",
            "Step 123: State=[-1.06978073  0.0280103 ], Reward=-1.0\n",
            "Step 124: State=[-1.03827616  0.03150456], Reward=-1.0\n",
            "Step 125: State=[-1.0032725   0.03500367], Reward=-1.0\n",
            "Step 126: State=[-0.9647905   0.03848199], Reward=-1.0\n",
            "Step 127: State=[-0.92288452  0.04190598], Reward=-1.0\n",
            "Step 128: State=[-0.87765038  0.04523414], Reward=-1.0\n",
            "Step 129: State=[-0.82923273  0.04841765], Reward=-1.0\n",
            "Step 130: State=[-0.77783078  0.05140195], Reward=-1.0\n",
            "Step 131: State=[-0.72370164  0.05412914], Reward=-1.0\n",
            "Step 132: State=[-0.66716026  0.05654138], Reward=-1.0\n",
            "Step 133: State=[-0.60857514  0.05858511], Reward=-1.0\n",
            "Step 134: State=[-0.54835959  0.06021555], Reward=-1.0\n",
            "Step 135: State=[-0.4869585   0.06140109], Reward=-1.0\n",
            "Step 136: State=[-0.42483166  0.06212684], Reward=-1.0\n",
            "Step 137: State=[-0.36243478  0.06239688], Reward=-1.0\n",
            "Step 138: State=[-0.30020009  0.06223469], Reward=-1.0\n",
            "Step 139: State=[-0.23851824  0.06168185], Reward=-1.0\n",
            "Step 140: State=[-0.17772322  0.06079502], Reward=-1.0\n",
            "Step 141: State=[-0.1180812   0.05964202], Reward=-1.0\n",
            "Step 142: State=[-0.05978395  0.05829725], Reward=-1.0\n",
            "Step 143: State=[-0.0029466   0.05683735], Reward=-1.0\n",
            "Step 144: State=[0.05239085 0.05533745], Reward=-1.0\n",
            "Step 145: State=[0.10625911 0.05386826], Reward=-1.0\n",
            "Step 146: State=[0.15875332 0.05249421], Reward=-1.0\n",
            "Step 147: State=[0.21002575 0.05127242], Reward=-1.0\n",
            "Step 148: State=[0.26027822 0.05025247], Reward=-1.0\n",
            "Step 149: State=[0.30975487 0.04947665], Reward=-1.0\n",
            "Step 150: State=[0.35873547 0.0489806 ], Reward=-1.0\n",
            "Step 151: State=[0.40752939 0.04879392], Reward=-1.0\n",
            "Step 152: State=[0.45647027 0.04894088], Reward=-1.0\n",
            "Step 153: State=[0.50591109 0.04944082], Reward=-1.0\n"
          ]
        }
      ],
      "source": [
        "import gym\n",
        "\n",
        "if COLAB:\n",
        "    env = wrap_env(gym.make(\"MountainCar-v0\"))\n",
        "else:\n",
        "    env = gym.make(\"MountainCar-v0\")\n",
        "\n",
        "state = env.reset()\n",
        "done = False\n",
        "\n",
        "i = 0\n",
        "while not done:\n",
        "    i += 1\n",
        "\n",
        "    if state[1] > 0:\n",
        "        action = 2\n",
        "    else:\n",
        "        action = 0\n",
        "\n",
        "    state, reward, done, _ = env.step(action)\n",
        "    env.render()\n",
        "    print(f\"Step {i}: State={state}, Reward={reward}\")\n",
        "\n",
        "env.close()\n"
      ]
    },
    {
      "cell_type": "markdown",
      "metadata": {
        "id": "eDSKmI___tEl"
      },
      "source": [
        "We now visualize the preprogrammed car solving the problem."
      ]
    },
    {
      "cell_type": "code",
      "execution_count": null,
      "metadata": {
        "colab": {
          "base_uri": "https://localhost:8080/",
          "height": 421
        },
        "id": "_FyIrJokfDA6",
        "outputId": "e13db01d-3a5f-4cea-f90a-4b9dfc98ba15"
      },
      "outputs": [
        {
          "data": {
            "text/html": [
              "<video alt=\"test\" autoplay \n",
              "                loop controls style=\"height: 400px;\">\n",
              "                <source src=\"data:video/mp4;base64,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\" type=\"video/mp4\" />\n",
              "             </video>"
            ],
            "text/plain": [
              "<IPython.core.display.HTML object>"
            ]
          },
          "metadata": {},
          "output_type": "display_data"
        }
      ],
      "source": [
        "# HIDE OUTPUT\n",
        "show_video()"
      ]
    },
    {
      "cell_type": "markdown",
      "metadata": {
        "id": "QAyqqoy9-Nog"
      },
      "source": [
        "### Reinforcement Learning\n",
        "\n",
        "Q-Learning is a system of rewards that the algorithm gives an agent for successfully moving the environment into a state considered successful. These rewards are the Q-values from which this algorithm takes its name. The final output from the Q-Learning algorithm is a table of Q-values that indicate the reward value of every action that the agent can take, given every possible environment state. The agent must bin continuous state values into a fixed finite number of columns.\n",
        "\n",
        "Learning occurs when the algorithm runs the agent and environment through episodes and updates the Q-values based on the rewards received from actions taken; Figure 12.REINF provides a high-level overview of this reinforcement or Q-Learning loop.\n",
        "\n",
        "**Figure 12.REINF:Reinforcement/Q Learning**\n",
        "![Reinforcement Learning](https://raw.githubusercontent.com/jeffheaton/t81_558_deep_learning/master/images/reinforcement.png \"Reinforcement Learning\")\n",
        "\n",
        "The Q-values can dictate action by selecting the action column with the highest Q-value for the current environment state. The choice between choosing a random action and a Q-value-driven action is governed by the epsilon ($\\epsilon$) parameter, the probability of random action.\n",
        "\n",
        "Each time through the training loop, the training algorithm updates the Q-values according to the following equation.\n"
      ]
    },
    {
      "cell_type": "markdown",
      "metadata": {
        "id": "NzZnd9Tj7rNc"
      },
      "source": [
        "$Q^{new}(s_{t},a_{t}) \\leftarrow \\underbrace{Q(s_{t},a_{t})}_{\\text{old value}} + \\underbrace{\\alpha}_{\\text{learning rate}} \\cdot  \\overbrace{\\bigg( \\underbrace{\\underbrace{r_{t}}_{\\text{reward}} + \\underbrace{\\gamma}_{\\text{discount factor}} \\cdot \\underbrace{\\max_{a}Q(s_{t+1}, a)}_{\\text{estimate of optimal future value}}}_{\\text{new value (temporal difference target)}} - \\underbrace{Q(s_{t},a_{t})}_{\\text{old value}} \\bigg) }^{\\text{temporal difference}}$\n",
        "\n",
        "There are several parameters in this equation:\n",
        "* alpha ($\\alpha$) - The learning rate, how much should the current step cause the Q-values to be updated.\n",
        "* lambda ($\\lambda$) - The discount factor is the percentage of future reward that the algorithm should consider in this update.\n",
        "\n",
        "This equation modifies several values:\n",
        "\n",
        "* $Q(s_t,a_t)$ - The Q-table.  For each combination of states, what reward would the agent likely receive for performing each action?\n",
        "* $s_t$ - The current state.\n",
        "* $r_t$ - The last reward received.\n",
        "* $a_t$ - The action that the agent will perform.\n",
        "\n",
        "The equation works by calculating a delta (temporal difference) that the equation should apply to the old state. This learning rate ($\\alpha$) scales this delta. A learning rate of 1.0 would fully implement the temporal difference in the Q-values each iteration and would likely be very chaotic.\n",
        "\n",
        "There are two parts to the temporal difference: the new and old values. The new value is subtracted from the old value to provide a delta; the full amount we would change the Q-value by if the learning rate did not scale this value. The new value is a summation of the reward received from the last action and the maximum Q-values from the resulting state when the client takes this action. Adding the maximum of action Q-values for the new state is essential because it estimates the optimal future values from proceeding with this action. \n",
        "\n",
        "## Q-Learning Car\n",
        "\n",
        "We will now use Q-Learning to produce a car that learns to drive itself. Look out, Tesla! We begin by defining two essential functions.\n"
      ]
    },
    {
      "cell_type": "code",
      "execution_count": null,
      "metadata": {
        "id": "UrQgXqbS-Noi"
      },
      "outputs": [],
      "source": [
        "import gym\n",
        "import numpy as np\n",
        "\n",
        "# This function converts the floating point state values into\n",
        "# discrete values. This is often called binning.  We divide\n",
        "# the range that the state values might occupy and assign\n",
        "# each region to a bucket.\n",
        "def calc_discrete_state(state):\n",
        "    discrete_state = (state - env.observation_space.low)/buckets\n",
        "    return tuple(discrete_state.astype(int))\n",
        "\n",
        "# Run one game.  The q_table to use is provided.  We also\n",
        "# provide a flag to indicate if the game should be\n",
        "# rendered/animated.  Finally, we also provide\n",
        "# a flag to indicate if the q_table should be updated.\n",
        "def run_game(q_table, render, should_update):\n",
        "    done = False\n",
        "    discrete_state = calc_discrete_state(env.reset())\n",
        "    success = False\n",
        "\n",
        "    while not done:\n",
        "        # Exploit or explore\n",
        "        if np.random.random() > epsilon:\n",
        "            # Exploit - use q-table to take current best action\n",
        "            # (and probably refine)\n",
        "            action = np.argmax(q_table[discrete_state])\n",
        "        else:\n",
        "            # Explore - t\n",
        "            action = np.random.randint(0, env.action_space.n)\n",
        "\n",
        "        # Run simulation step\n",
        "        new_state, reward, done, _ = env.step(action)\n",
        "\n",
        "        # Convert continuous state to discrete\n",
        "        new_state_disc = calc_discrete_state(new_state)\n",
        "\n",
        "        # Have we reached the goal position (have we won?)?\n",
        "        if new_state[0] >= env.unwrapped.goal_position:\n",
        "            success = True\n",
        "\n",
        "        # Update q-table\n",
        "        if should_update:\n",
        "            max_future_q = np.max(q_table[new_state_disc])\n",
        "            current_q = q_table[discrete_state + (action,)]\n",
        "            new_q = (1 - LEARNING_RATE) * current_q + LEARNING_RATE * \\\n",
        "                (reward + DISCOUNT * max_future_q)\n",
        "            q_table[discrete_state + (action,)] = new_q\n",
        "\n",
        "        discrete_state = new_state_disc\n",
        "\n",
        "        if render:\n",
        "            env.render()\n",
        "\n",
        "    return success\n"
      ]
    },
    {
      "cell_type": "markdown",
      "metadata": {
        "id": "n3j1M4MddIBF"
      },
      "source": [
        "Several hyperparameters are very important for Q-Learning. These parameters will likely need adjustment as you apply Q-Learning to other problems. Because of this, it is crucial to understand the role of each parameter.\n",
        "\n",
        "* **LEARNING_RATE** The rate at which previous Q-values are updated based on new episodes run during training. \n",
        "* **DISCOUNT** The amount of significance to give estimates of future rewards when added to the reward for the current action taken. A value of 0.95 would indicate a discount of 5% on the future reward estimates. \n",
        "* **EPISODES** The number of episodes to train over. Increase this for more complex problems; however, training time also increases.\n",
        "* **SHOW_EVERY** How many episodes to allow to elapse before showing an update.\n",
        "* **DISCRETE_GRID_SIZE** How many buckets to use when converting each continuous state variable. For example, [10, 10] indicates that the algorithm should use ten buckets for the first and second state variables.\n",
        "* **START_EPSILON_DECAYING** Epsilon is the probability that the agent will select a random action over what the Q-Table suggests. This value determines the starting probability of randomness.\n",
        "* **END_EPSILON_DECAYING** How many episodes should elapse before epsilon goes to zero and no random actions are permitted. For example, EPISODES//10  means only the first 1/10th of the episodes might have random actions."
      ]
    },
    {
      "cell_type": "code",
      "execution_count": null,
      "metadata": {
        "id": "rI0TJc7T-Nol"
      },
      "outputs": [],
      "source": [
        "LEARNING_RATE = 0.1\n",
        "DISCOUNT = 0.95\n",
        "EPISODES = 50000\n",
        "SHOW_EVERY = 1000\n",
        "\n",
        "DISCRETE_GRID_SIZE = [10, 10]\n",
        "START_EPSILON_DECAYING = 0.5\n",
        "END_EPSILON_DECAYING = EPISODES//10\n"
      ]
    },
    {
      "cell_type": "markdown",
      "metadata": {
        "id": "Rw3SjzSyAktT"
      },
      "source": [
        "We can now make the environment.  If we are running in Google COLAB, we wrap the environment to be displayed inside the web browser.  Next, create the discrete buckets for state and build Q-table."
      ]
    },
    {
      "cell_type": "code",
      "execution_count": null,
      "metadata": {
        "id": "2IdL-46y-Noo"
      },
      "outputs": [],
      "source": [
        "if COLAB:\n",
        "    env = wrap_env(gym.make(\"MountainCar-v0\"))\n",
        "else:\n",
        "    env = gym.make(\"MountainCar-v0\")\n",
        "\n",
        "epsilon = 1\n",
        "epsilon_change = epsilon/(END_EPSILON_DECAYING - START_EPSILON_DECAYING)\n",
        "buckets = (env.observation_space.high - env.observation_space.low) \\\n",
        "    / DISCRETE_GRID_SIZE\n",
        "q_table = np.random.uniform(low=-3, high=0, size=(DISCRETE_GRID_SIZE\n",
        "                                                  + [env.action_space.n]))\n",
        "success = False\n"
      ]
    },
    {
      "cell_type": "markdown",
      "metadata": {
        "id": "Z2qG3ayDsRWz"
      },
      "source": [
        "We can now make the environment.  If we are running in Google COLAB, we wrap the environment to be displayed inside the web browser.  Next, create the discrete buckets for state and build Q-table."
      ]
    },
    {
      "cell_type": "code",
      "execution_count": null,
      "metadata": {
        "colab": {
          "base_uri": "https://localhost:8080/"
        },
        "id": "Ot7cF0bX-Nor",
        "outputId": "787d9050-e72e-4435-ffbc-42b8c984ceb2"
      },
      "outputs": [
        {
          "name": "stdout",
          "output_type": "stream",
          "text": [
            "Current episode: 1000, success: 0 0.0\n",
            "Current episode: 2000, success: 0 0.0\n",
            "Current episode: 3000, success: 0 0.0\n",
            "Current episode: 4000, success: 31 0.031\n",
            "Current episode: 5000, success: 321 0.321\n",
            "Current episode: 6000, success: 602 0.602\n",
            "Current episode: 7000, success: 620 0.62\n",
            "Current episode: 8000, success: 821 0.821\n",
            "Current episode: 9000, success: 707 0.707\n",
            "Current episode: 10000, success: 714 0.714\n",
            "Current episode: 11000, success: 574 0.574\n",
            "Current episode: 12000, success: 443 0.443\n",
            "Current episode: 13000, success: 480 0.48\n",
            "Current episode: 14000, success: 458 0.458\n",
            "Current episode: 15000, success: 327 0.327\n",
            "Current episode: 16000, success: 323 0.323\n",
            "Current episode: 17000, success: 295 0.295\n",
            "Current episode: 18000, success: 314 0.314\n",
            "Current episode: 19000, success: 362 0.362\n",
            "Current episode: 20000, success: 488 0.488\n",
            "Current episode: 21000, success: 566 0.566\n",
            "Current episode: 22000, success: 591 0.591\n",
            "Current episode: 23000, success: 441 0.441\n",
            "Current episode: 24000, success: 385 0.385\n",
            "Current episode: 25000, success: 1000 1.0\n",
            "Current episode: 26000, success: 1000 1.0\n",
            "Current episode: 27000, success: 993 0.993\n",
            "Current episode: 28000, success: 67 0.067\n",
            "Current episode: 29000, success: 0 0.0\n",
            "Current episode: 30000, success: 39 0.039\n",
            "Current episode: 31000, success: 204 0.204\n",
            "Current episode: 32000, success: 429 0.429\n",
            "Current episode: 33000, success: 345 0.345\n",
            "Current episode: 34000, success: 970 0.97\n",
            "Current episode: 35000, success: 583 0.583\n",
            "Current episode: 36000, success: 752 0.752\n",
            "Current episode: 37000, success: 955 0.955\n",
            "Current episode: 38000, success: 997 0.997\n",
            "Current episode: 39000, success: 1000 1.0\n",
            "Current episode: 40000, success: 1000 1.0\n",
            "Current episode: 41000, success: 1000 1.0\n",
            "Current episode: 42000, success: 1000 1.0\n",
            "Current episode: 43000, success: 1000 1.0\n",
            "Current episode: 44000, success: 1000 1.0\n",
            "Current episode: 45000, success: 1000 1.0\n",
            "Current episode: 46000, success: 1000 1.0\n",
            "Current episode: 47000, success: 1000 1.0\n",
            "Current episode: 48000, success: 1000 1.0\n",
            "Current episode: 49000, success: 1000 1.0\n",
            "Current episode: 50000, success: 1000 1.0\n",
            "True\n"
          ]
        }
      ],
      "source": [
        "episode = 0\n",
        "success_count = 0\n",
        "\n",
        "# Loop through the required number of episodes\n",
        "while episode < EPISODES:\n",
        "    episode += 1\n",
        "    done = False\n",
        "\n",
        "    # Run the game.  If we are local, display render animation\n",
        "    # at SHOW_EVERY intervals.\n",
        "    if episode % SHOW_EVERY == 0:\n",
        "        print(f\"Current episode: {episode}, success: {success_count}\" +\n",
        "              f\" {(float(success_count)/SHOW_EVERY)}\")\n",
        "        success = run_game(q_table, True, False)\n",
        "        success_count = 0\n",
        "    else:\n",
        "        success = run_game(q_table, False, True)\n",
        "\n",
        "    # Count successes\n",
        "    if success:\n",
        "        success_count += 1\n",
        "\n",
        "    # Move epsilon towards its ending value, if it still needs to move\n",
        "    if END_EPSILON_DECAYING >= episode >= START_EPSILON_DECAYING:\n",
        "        epsilon = max(0, epsilon - epsilon_change)\n",
        "\n",
        "print(success)\n"
      ]
    },
    {
      "cell_type": "markdown",
      "metadata": {
        "id": "kDHTQkREFRSE"
      },
      "source": [
        "As you can see, the number of successful episodes generally increases as training progresses. It is not advisable to stop the first time we observe 100% success over 1,000 episodes. There is a randomness to most games, so it is not likely that an agent would retain its 100% success rate with a new run. It might be safe to stop training once you observe that the agent has gotten 100% for several update intervals.\n",
        "\n",
        "## Running and Observing the Agent\n",
        "\n",
        "Now that the algorithm has trained the agent, we can observe the agent in action. You can use the following code to see the agent in action."
      ]
    },
    {
      "cell_type": "code",
      "execution_count": null,
      "metadata": {
        "colab": {
          "base_uri": "https://localhost:8080/",
          "height": 421
        },
        "id": "v_mf3A0h-Nox",
        "outputId": "3f422f49-7282-4a9b-f6f0-84cf0886c562"
      },
      "outputs": [
        {
          "data": {
            "text/html": [
              "<video alt=\"test\" autoplay \n",
              "                loop controls style=\"height: 400px;\">\n",
              "                <source src=\"data:video/mp4;base64,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\" type=\"video/mp4\" />\n",
              "             </video>"
            ],
            "text/plain": [
              "<IPython.core.display.HTML object>"
            ]
          },
          "metadata": {},
          "output_type": "display_data"
        }
      ],
      "source": [
        "# HIDE OUTPUT\n",
        "\n",
        "run_game(q_table, True, False)\n",
        "show_video()\n"
      ]
    },
    {
      "cell_type": "markdown",
      "metadata": {
        "id": "WeQzNFSosdys"
      },
      "source": [
        "## Inspecting the Q-Table\n",
        "\n",
        "We can also display the Q-table. The following code shows the agent's action for each environment state. As the weights of a neural network, this table is not straightforward to interpret. Some patterns do emerge in that direction, as seen by calculating the means of rows and columns. The actions seem consistent at both velocity and position's upper and lower halves."
      ]
    },
    {
      "cell_type": "code",
      "execution_count": null,
      "metadata": {
        "colab": {
          "base_uri": "https://localhost:8080/",
          "height": 363
        },
        "id": "L62lyCTr-Noz",
        "outputId": "de08bdc1-cffc-4781-eeea-761b59b135bb"
      },
      "outputs": [
        {
          "data": {
            "text/html": [
              "\n",
              "  <div id=\"df-699ad958-a233-407d-b5ea-92707a4d0fb2\">\n",
              "    <div class=\"colab-df-container\">\n",
              "      <div>\n",
              "<style scoped>\n",
              "    .dataframe tbody tr th:only-of-type {\n",
              "        vertical-align: middle;\n",
              "    }\n",
              "\n",
              "    .dataframe tbody tr th {\n",
              "        vertical-align: top;\n",
              "    }\n",
              "\n",
              "    .dataframe thead th {\n",
              "        text-align: right;\n",
              "    }\n",
              "</style>\n",
              "<table border=\"1\" class=\"dataframe\">\n",
              "  <thead>\n",
              "    <tr style=\"text-align: right;\">\n",
              "      <th></th>\n",
              "      <th>v-0</th>\n",
              "      <th>v-1</th>\n",
              "      <th>v-2</th>\n",
              "      <th>v-3</th>\n",
              "      <th>v-4</th>\n",
              "      <th>v-5</th>\n",
              "      <th>v-6</th>\n",
              "      <th>v-7</th>\n",
              "      <th>v-8</th>\n",
              "      <th>v-9</th>\n",
              "    </tr>\n",
              "  </thead>\n",
              "  <tbody>\n",
              "    <tr>\n",
              "      <th>p-0</th>\n",
              "      <td>2</td>\n",
              "      <td>2</td>\n",
              "      <td>2</td>\n",
              "      <td>2</td>\n",
              "      <td>2</td>\n",
              "      <td>2</td>\n",
              "      <td>2</td>\n",
              "      <td>0</td>\n",
              "      <td>2</td>\n",
              "      <td>0</td>\n",
              "    </tr>\n",
              "    <tr>\n",
              "      <th>p-1</th>\n",
              "      <td>0</td>\n",
              "      <td>1</td>\n",
              "      <td>0</td>\n",
              "      <td>1</td>\n",
              "      <td>2</td>\n",
              "      <td>2</td>\n",
              "      <td>2</td>\n",
              "      <td>2</td>\n",
              "      <td>2</td>\n",
              "      <td>1</td>\n",
              "    </tr>\n",
              "    <tr>\n",
              "      <th>p-2</th>\n",
              "      <td>1</td>\n",
              "      <td>0</td>\n",
              "      <td>0</td>\n",
              "      <td>2</td>\n",
              "      <td>2</td>\n",
              "      <td>2</td>\n",
              "      <td>2</td>\n",
              "      <td>1</td>\n",
              "      <td>1</td>\n",
              "      <td>0</td>\n",
              "    </tr>\n",
              "    <tr>\n",
              "      <th>p-3</th>\n",
              "      <td>2</td>\n",
              "      <td>0</td>\n",
              "      <td>0</td>\n",
              "      <td>0</td>\n",
              "      <td>2</td>\n",
              "      <td>2</td>\n",
              "      <td>2</td>\n",
              "      <td>1</td>\n",
              "      <td>2</td>\n",
              "      <td>2</td>\n",
              "    </tr>\n",
              "    <tr>\n",
              "      <th>p-4</th>\n",
              "      <td>2</td>\n",
              "      <td>0</td>\n",
              "      <td>0</td>\n",
              "      <td>0</td>\n",
              "      <td>0</td>\n",
              "      <td>2</td>\n",
              "      <td>0</td>\n",
              "      <td>2</td>\n",
              "      <td>2</td>\n",
              "      <td>2</td>\n",
              "    </tr>\n",
              "    <tr>\n",
              "      <th>p-5</th>\n",
              "      <td>1</td>\n",
              "      <td>1</td>\n",
              "      <td>2</td>\n",
              "      <td>1</td>\n",
              "      <td>1</td>\n",
              "      <td>0</td>\n",
              "      <td>1</td>\n",
              "      <td>1</td>\n",
              "      <td>2</td>\n",
              "      <td>2</td>\n",
              "    </tr>\n",
              "    <tr>\n",
              "      <th>p-6</th>\n",
              "      <td>2</td>\n",
              "      <td>2</td>\n",
              "      <td>0</td>\n",
              "      <td>0</td>\n",
              "      <td>0</td>\n",
              "      <td>0</td>\n",
              "      <td>2</td>\n",
              "      <td>2</td>\n",
              "      <td>2</td>\n",
              "      <td>2</td>\n",
              "    </tr>\n",
              "    <tr>\n",
              "      <th>p-7</th>\n",
              "      <td>0</td>\n",
              "      <td>2</td>\n",
              "      <td>1</td>\n",
              "      <td>0</td>\n",
              "      <td>0</td>\n",
              "      <td>1</td>\n",
              "      <td>2</td>\n",
              "      <td>2</td>\n",
              "      <td>2</td>\n",
              "      <td>2</td>\n",
              "    </tr>\n",
              "    <tr>\n",
              "      <th>p-8</th>\n",
              "      <td>2</td>\n",
              "      <td>0</td>\n",
              "      <td>1</td>\n",
              "      <td>2</td>\n",
              "      <td>0</td>\n",
              "      <td>0</td>\n",
              "      <td>2</td>\n",
              "      <td>2</td>\n",
              "      <td>1</td>\n",
              "      <td>2</td>\n",
              "    </tr>\n",
              "    <tr>\n",
              "      <th>p-9</th>\n",
              "      <td>2</td>\n",
              "      <td>2</td>\n",
              "      <td>2</td>\n",
              "      <td>1</td>\n",
              "      <td>1</td>\n",
              "      <td>0</td>\n",
              "      <td>2</td>\n",
              "      <td>2</td>\n",
              "      <td>2</td>\n",
              "      <td>1</td>\n",
              "    </tr>\n",
              "  </tbody>\n",
              "</table>\n",
              "</div>\n",
              "      <button class=\"colab-df-convert\" onclick=\"convertToInteractive('df-699ad958-a233-407d-b5ea-92707a4d0fb2')\"\n",
              "              title=\"Convert this dataframe to an interactive table.\"\n",
              "              style=\"display:none;\">\n",
              "        \n",
              "  <svg xmlns=\"http://www.w3.org/2000/svg\" height=\"24px\"viewBox=\"0 0 24 24\"\n",
              "       width=\"24px\">\n",
              "    <path d=\"M0 0h24v24H0V0z\" fill=\"none\"/>\n",
              "    <path d=\"M18.56 5.44l.94 2.06.94-2.06 2.06-.94-2.06-.94-.94-2.06-.94 2.06-2.06.94zm-11 1L8.5 8.5l.94-2.06 2.06-.94-2.06-.94L8.5 2.5l-.94 2.06-2.06.94zm10 10l.94 2.06.94-2.06 2.06-.94-2.06-.94-.94-2.06-.94 2.06-2.06.94z\"/><path d=\"M17.41 7.96l-1.37-1.37c-.4-.4-.92-.59-1.43-.59-.52 0-1.04.2-1.43.59L10.3 9.45l-7.72 7.72c-.78.78-.78 2.05 0 2.83L4 21.41c.39.39.9.59 1.41.59.51 0 1.02-.2 1.41-.59l7.78-7.78 2.81-2.81c.8-.78.8-2.07 0-2.86zM5.41 20L4 18.59l7.72-7.72 1.47 1.35L5.41 20z\"/>\n",
              "  </svg>\n",
              "      </button>\n",
              "      \n",
              "  <style>\n",
              "    .colab-df-container {\n",
              "      display:flex;\n",
              "      flex-wrap:wrap;\n",
              "      gap: 12px;\n",
              "    }\n",
              "\n",
              "    .colab-df-convert {\n",
              "      background-color: #E8F0FE;\n",
              "      border: none;\n",
              "      border-radius: 50%;\n",
              "      cursor: pointer;\n",
              "      display: none;\n",
              "      fill: #1967D2;\n",
              "      height: 32px;\n",
              "      padding: 0 0 0 0;\n",
              "      width: 32px;\n",
              "    }\n",
              "\n",
              "    .colab-df-convert:hover {\n",
              "      background-color: #E2EBFA;\n",
              "      box-shadow: 0px 1px 2px rgba(60, 64, 67, 0.3), 0px 1px 3px 1px rgba(60, 64, 67, 0.15);\n",
              "      fill: #174EA6;\n",
              "    }\n",
              "\n",
              "    [theme=dark] .colab-df-convert {\n",
              "      background-color: #3B4455;\n",
              "      fill: #D2E3FC;\n",
              "    }\n",
              "\n",
              "    [theme=dark] .colab-df-convert:hover {\n",
              "      background-color: #434B5C;\n",
              "      box-shadow: 0px 1px 3px 1px rgba(0, 0, 0, 0.15);\n",
              "      filter: drop-shadow(0px 1px 2px rgba(0, 0, 0, 0.3));\n",
              "      fill: #FFFFFF;\n",
              "    }\n",
              "  </style>\n",
              "\n",
              "      <script>\n",
              "        const buttonEl =\n",
              "          document.querySelector('#df-699ad958-a233-407d-b5ea-92707a4d0fb2 button.colab-df-convert');\n",
              "        buttonEl.style.display =\n",
              "          google.colab.kernel.accessAllowed ? 'block' : 'none';\n",
              "\n",
              "        async function convertToInteractive(key) {\n",
              "          const element = document.querySelector('#df-699ad958-a233-407d-b5ea-92707a4d0fb2');\n",
              "          const dataTable =\n",
              "            await google.colab.kernel.invokeFunction('convertToInteractive',\n",
              "                                                     [key], {});\n",
              "          if (!dataTable) return;\n",
              "\n",
              "          const docLinkHtml = 'Like what you see? Visit the ' +\n",
              "            '<a target=\"_blank\" href=https://colab.research.google.com/notebooks/data_table.ipynb>data table notebook</a>'\n",
              "            + ' to learn more about interactive tables.';\n",
              "          element.innerHTML = '';\n",
              "          dataTable['output_type'] = 'display_data';\n",
              "          await google.colab.output.renderOutput(dataTable, element);\n",
              "          const docLink = document.createElement('div');\n",
              "          docLink.innerHTML = docLinkHtml;\n",
              "          element.appendChild(docLink);\n",
              "        }\n",
              "      </script>\n",
              "    </div>\n",
              "  </div>\n",
              "  "
            ],
            "text/plain": [
              "     v-0  v-1  v-2  v-3  v-4  v-5  v-6  v-7  v-8  v-9\n",
              "p-0    2    2    2    2    2    2    2    0    2    0\n",
              "p-1    0    1    0    1    2    2    2    2    2    1\n",
              "p-2    1    0    0    2    2    2    2    1    1    0\n",
              "p-3    2    0    0    0    2    2    2    1    2    2\n",
              "p-4    2    0    0    0    0    2    0    2    2    2\n",
              "p-5    1    1    2    1    1    0    1    1    2    2\n",
              "p-6    2    2    0    0    0    0    2    2    2    2\n",
              "p-7    0    2    1    0    0    1    2    2    2    2\n",
              "p-8    2    0    1    2    0    0    2    2    1    2\n",
              "p-9    2    2    2    1    1    0    2    2    2    1"
            ]
          },
          "execution_count": 14,
          "metadata": {},
          "output_type": "execute_result"
        }
      ],
      "source": [
        "import pandas as pd\n",
        "\n",
        "df = pd.DataFrame(q_table.argmax(axis=2))\n",
        "\n",
        "df.columns = [f'v-{x}' for x in range(DISCRETE_GRID_SIZE[0])]\n",
        "df.index = [f'p-{x}' for x in range(DISCRETE_GRID_SIZE[1])]\n",
        "df\n"
      ]
    },
    {
      "cell_type": "code",
      "execution_count": null,
      "metadata": {
        "colab": {
          "base_uri": "https://localhost:8080/"
        },
        "id": "Z-ZOL-d5Jbon",
        "outputId": "8e836893-a691-4cea-e411-e5c238c43313"
      },
      "outputs": [
        {
          "data": {
            "text/plain": [
              "v-0    1.4\n",
              "v-1    1.0\n",
              "v-2    0.8\n",
              "v-3    0.9\n",
              "v-4    1.0\n",
              "v-5    1.1\n",
              "v-6    1.7\n",
              "v-7    1.5\n",
              "v-8    1.8\n",
              "v-9    1.4\n",
              "dtype: float64"
            ]
          },
          "execution_count": 15,
          "metadata": {},
          "output_type": "execute_result"
        }
      ],
      "source": [
        "df.mean(axis=0)"
      ]
    },
    {
      "cell_type": "code",
      "execution_count": null,
      "metadata": {
        "colab": {
          "base_uri": "https://localhost:8080/"
        },
        "id": "LOGA4HP9KHW3",
        "outputId": "1c72f37b-7a96-4b3a-9d83-d2018737ee54"
      },
      "outputs": [
        {
          "data": {
            "text/plain": [
              "p-0    1.6\n",
              "p-1    1.3\n",
              "p-2    1.1\n",
              "p-3    1.3\n",
              "p-4    1.0\n",
              "p-5    1.2\n",
              "p-6    1.2\n",
              "p-7    1.2\n",
              "p-8    1.2\n",
              "p-9    1.5\n",
              "dtype: float64"
            ]
          },
          "execution_count": 16,
          "metadata": {},
          "output_type": "execute_result"
        }
      ],
      "source": [
        "df.mean(axis=1)"
      ]
    }
  ],
  "metadata": {
    "anaconda-cloud": {},
    "colab": {
      "collapsed_sections": [],
      "name": "Copy of t81_558_class_12_02_qlearningreinforcement.ipynb",
      "provenance": []
    },
    "kernelspec": {
      "display_name": "Python 3.9 (tensorflow)",
      "language": "python",
      "name": "tensorflow"
    },
    "language_info": {
      "codemirror_mode": {
        "name": "ipython",
        "version": 3
      },
      "file_extension": ".py",
      "mimetype": "text/x-python",
      "name": "python",
      "nbconvert_exporter": "python",
      "pygments_lexer": "ipython3",
      "version": "3.9.7"
    },
    "varInspector": {
      "cols": {
        "lenName": 16,
        "lenType": 16,
        "lenVar": 40
      },
      "kernels_config": {
        "python": {
          "delete_cmd_postfix": "",
          "delete_cmd_prefix": "del ",
          "library": "var_list.py",
          "varRefreshCmd": "print(var_dic_list())"
        },
        "r": {
          "delete_cmd_postfix": ") ",
          "delete_cmd_prefix": "rm(",
          "library": "var_list.r",
          "varRefreshCmd": "cat(var_dic_list()) "
        }
      },
      "types_to_exclude": [
        "module",
        "function",
        "builtin_function_or_method",
        "instance",
        "_Feature"
      ],
      "window_display": false
    }
  },
  "nbformat": 4,
  "nbformat_minor": 0
}